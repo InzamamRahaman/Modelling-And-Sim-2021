{
 "cells": [
  {
   "cell_type": "code",
   "execution_count": 266,
   "metadata": {},
   "outputs": [
    {
     "name": "stdout",
     "output_type": "stream",
     "text": [
      "Populating the interactive namespace from numpy and matplotlib\n"
     ]
    }
   ],
   "source": [
    "%pylab inline\n",
    "import numpy as np\n",
    "import pandas as pd\n",
    "from enum import Enum\n",
    "import heapq"
   ]
  },
  {
   "cell_type": "code",
   "execution_count": 267,
   "metadata": {},
   "outputs": [],
   "source": [
    "class PriorityQueue(object):\n",
    "    def __init__(self, keyfun=None, reverse=False):\n",
    "        mult = 1\n",
    "        if keyfun is None:\n",
    "            keyfun = lambda x: x[0]\n",
    "        if reverse:\n",
    "            mult = -1\n",
    "        self.keyfun = lambda x: mult * keyfun(x)\n",
    "        self.contents = []\n",
    "        \n",
    "    def enqueue(self, item):\n",
    "        item = (self.keyfun(item), item)\n",
    "        heapq.heappush(self.contents, item)\n",
    "        \n",
    "    def dequeue(self):\n",
    "        if self.contents:\n",
    "            item = heapq.heappop(self.contents)\n",
    "            return item[1]\n",
    "        return None\n",
    "    \n",
    "    def is_empty(self):\n",
    "        return not self.contents\n",
    "    \n",
    "    def __len__(self):\n",
    "        return len(self.contents)\n",
    "    \n",
    "    def __bool__(self):\n",
    "        return bool(self.contents)\n",
    "    \n",
    "    def __repr__(self):\n",
    "        return repr(self.contents)\n",
    "    \n",
    "    def __str__(self):\n",
    "        return str(self.contents)\n",
    "        "
   ]
  },
  {
   "cell_type": "code",
   "execution_count": 291,
   "metadata": {},
   "outputs": [],
   "source": [
    "class Customer(object):\n",
    "    def __init__(self, arrival_time):\n",
    "        self.arrival_time = arrival_time\n",
    "        self.service_start_time = None \n",
    "        self.service_end_time = None \n",
    "        self.frustration = 0\n",
    "        self.priority_score = min(10, max(1, int(np.random.normal(5, 2))))\n",
    "        self.is_dead = False\n",
    "    \n",
    "    def service_start(self, time):\n",
    "        self.service_start_time = time\n",
    "    \n",
    "    def service_end(self, time):\n",
    "        self.service_end_time = time\n",
    "        self.frustration += self.service_end_time  - self.arrival_time\n",
    "        \n",
    "    def get_wait_time(self):\n",
    "        if self.service_start_time is None:\n",
    "            raise ValueError(\"Cannot call wait time yet\")\n",
    "        return self.service_start_time - self.arrival_time\n",
    "    \n",
    "    def get_service_length(self):\n",
    "        if self.service_end_time is None:\n",
    "            raise ValueError(\"Cannot call service time yet\")\n",
    "        return self.service_end_time - self.service_start_time\n",
    "    \n",
    "    def get_time_in_system(self):\n",
    "        if self.service_end_time is None:\n",
    "            raise ValueError(\"Cannot call total time yet\")\n",
    "        return self.service_end_time - self.arrival_time\n",
    "    \n",
    "    def __lt__(self, other):\n",
    "        return self.arrival_time < other.arrival_time"
   ]
  },
  {
   "cell_type": "code",
   "execution_count": 292,
   "metadata": {},
   "outputs": [],
   "source": [
    "class Server(object):\n",
    "    def __init__(self):\n",
    "        self.is_free = True\n",
    "        self.utilization_time = 0\n",
    "        self.temp_time = 0\n",
    "        self.customer = None\n",
    "    \n",
    "    def start_serving(self, time, customer):\n",
    "        self.is_free = False\n",
    "        self.temp_time = time\n",
    "        self.customer = customer\n",
    "    \n",
    "    def finish_serving(self, time):\n",
    "        self.is_free = True \n",
    "        self.utilization_time += (time - self.temp_time)\n",
    "        self.temp_time = 0\n",
    "        customer_to_return = self.customer\n",
    "        self.customer = None\n",
    "        return customer_to_return\n",
    "        \n",
    "    \n",
    "    def get_utilization(self, total_time):\n",
    "        return self.utilization_time / total_time"
   ]
  },
  {
   "cell_type": "code",
   "execution_count": 293,
   "metadata": {},
   "outputs": [],
   "source": [
    "class EventType(Enum):\n",
    "    ARRIVAL = 1\n",
    "    SERVICE_START = 2\n",
    "    SERVICE_END = 3\n",
    "    DEATH = 4\n",
    "    \n",
    "def create_arrival(time):\n",
    "    return (time, EventType.ARRIVAL)\n",
    "\n",
    "def create_service_start(time):\n",
    "    return (time, EventType.SERVICE_START)\n",
    "\n",
    "def create_service_end(time, server=None):\n",
    "    return (time, EventType.SERVICE_END, server)\n",
    "\n",
    "def create_death_event(time, customer=None):\n",
    "    return (time, EventType.DEATH, customer)"
   ]
  },
  {
   "cell_type": "code",
   "execution_count": 294,
   "metadata": {},
   "outputs": [],
   "source": [
    "class FutureEventList(object):\n",
    "    def __init__(self):\n",
    "        self.events = PriorityQueue()\n",
    "    \n",
    "    def enqueue(self, event):\n",
    "        self.events.enqueue(event)\n",
    "    \n",
    "    def dequeue(self):\n",
    "        return self.events.dequeue()"
   ]
  },
  {
   "cell_type": "code",
   "execution_count": 295,
   "metadata": {},
   "outputs": [],
   "source": [
    "class CustomerQueue(object):\n",
    "    def __init__(self, can_skip=True, skipping_rate=0.5):\n",
    "        self.customers = PriorityQueue(lambda cust: cust.priority_score, reverse=True)\n",
    "        self.last_update = 0\n",
    "        self.lengths = [0]\n",
    "        self.time_held = []\n",
    "        self.can_skip = can_skip\n",
    "        self.skipping_rate = skipping_rate\n",
    "    \n",
    "#    # # # # # --> # # @ # # #\n",
    "#    4 3 2 1 0 --> 5 4 3 2 1 0\n",
    "    def add_customer(self, arrival_time):\n",
    "        customer = Customer(arrival_time)\n",
    "        new_length = self.lengths[-1] + 1\n",
    "        self.lengths.append(new_length)\n",
    "        self.time_held.append(arrival_time - self.last_update)\n",
    "        self.last_update = arrival_time\n",
    "        \n",
    "        self.customers.enqueue(customer)\n",
    "        return customer\n",
    "        \n",
    "#         customer = Customer(arrival_time)\n",
    "#         new_length = self.lengths[-1] + 1\n",
    "#         self.lengths.append(new_length)\n",
    "#         self.time_held.append(arrival_time - self.last_update)\n",
    "#         self.last_update = arrival_time\n",
    "#         if np.random.random() <= self.skipping_rate and self.can_skip:\n",
    "#             #print('Customer skipping ')\n",
    "#             places = int(np.random.uniform(1, 5))\n",
    "#             places = min(places, len(self.customers))\n",
    "#             position = (len(self.customers) - places)\n",
    "#             #print('Customer skipping to position ', position, ' of ', len(self.customers))\n",
    "#             self.customers.insert(position, customer)\n",
    "#             for i in range(position + 1, len(self.customers)):\n",
    "#                 #print('Incrementing')\n",
    "#                 self.customers[i].frustration += 10\n",
    "#         else:\n",
    "#             self.customers.append(customer)\n",
    "        \n",
    "    def is_empty(self):\n",
    "        return not self.customers\n",
    "        \n",
    "    def remove_customer(self, removal_time):\n",
    "        customer = self.customers.dequeue()\n",
    "        #self.customers.pop(0)\n",
    "        new_length = self.lengths[-1] - 1\n",
    "        self.lengths.append(new_length)\n",
    "        self.time_held.append(removal_time - self.last_update)\n",
    "        self.last_update = removal_time\n",
    "        return customer\n",
    "    \n",
    "    def compute_line_length_distribution(self, total_time):\n",
    "        arr = []\n",
    "        for count, time in zip(self.lengths, self.time_held):\n",
    "            arr.append([count, time])\n",
    "        df = pd.DataFrame(arr, columns=['count', 'time'])\n",
    "        df = df.groupby('count').agg({'time': 'sum'}).reset_index()\n",
    "        df['time'] /= total_time\n",
    "        df = df.rename(columns={'time': 'p(count)'})\n",
    "        return df"
   ]
  },
  {
   "cell_type": "code",
   "execution_count": 296,
   "metadata": {},
   "outputs": [],
   "source": [
    "class ServerSystem(object):\n",
    "    def __init__(self, num_servers=1):\n",
    "        self.num_serves = num_servers\n",
    "        self.servers = []\n",
    "        for i in range(num_servers):\n",
    "            self.servers.append(Server())\n",
    "    \n",
    "    def are_any_free(self):\n",
    "        return any([server.is_free for server in self.servers])\n",
    "    \n",
    "    def get_free_server(self):\n",
    "        for curr_server in self.servers:\n",
    "            if curr_server.is_free:\n",
    "                return curr_server\n",
    "        return None\n",
    "    \n",
    "    def get_average_utilization(self, total_time):\n",
    "        utilizations = [s.get_utilization(total_time) for s in self.servers]\n",
    "        return np.mean(utilizations)"
   ]
  },
  {
   "cell_type": "code",
   "execution_count": 297,
   "metadata": {},
   "outputs": [],
   "source": [
    "def get_interarrival_time():\n",
    "    return np.random.uniform(0.5, 6)\n",
    "\n",
    "def get_service_time(priority_score):\n",
    "    time = None\n",
    "    if priority_score <= 3:\n",
    "        time = np.random.normal(10, 2)\n",
    "    elif priority_score <= 6:\n",
    "        time = np.random.normal(20, 4)\n",
    "    else:\n",
    "        time = np.random.normal(30, 4)\n",
    "    return max(5, time)\n",
    "\n",
    "\n",
    "def get_time_to_die(priority_score):\n",
    "    time = None\n",
    "    if priority_score <= 3:\n",
    "        time = np.random.normal(7 * 24 * 60, 10)\n",
    "    elif priority_score <= 6:\n",
    "        time = np.random.normal(7 * 60, 60)\n",
    "    else:\n",
    "        time = np.random.normal(60, 30)\n",
    "    return max(30, time)\n",
    "        "
   ]
  },
  {
   "cell_type": "code",
   "execution_count": 304,
   "metadata": {},
   "outputs": [],
   "source": [
    "def simulate_er(customer_limit, num_servers=1, \n",
    "                            can_skip=True, skipping_rate=0.5):\n",
    "    customer_queue = CustomerQueue()\n",
    "    vendors = ServerSystem(num_servers)\n",
    "    fel = FutureEventList()\n",
    "    num_customers_to_arrive = 0\n",
    "    finished_customers = []\n",
    "    \n",
    "    # our first arrival\n",
    "    interarrival_time = get_interarrival_time()\n",
    "    first_arrival_time = 0 + interarrival_time\n",
    "    first_arrival = create_arrival(first_arrival_time)\n",
    "    fel.enqueue(first_arrival)\n",
    "    last_time = 0\n",
    "    death_counter = 0\n",
    "\n",
    "    \n",
    "    while num_customers_to_arrive <= customer_limit:\n",
    "        current_event = fel.dequeue()\n",
    "        current_time = current_event[0]\n",
    "        last_time = current_time\n",
    "        current_event_type =  current_event[1]\n",
    "        if current_event_type == EventType.ARRIVAL:\n",
    "            customer = customer_queue.add_customer(current_time)\n",
    "            death_event = create_death_event(get_time_to_die(customer.priority_score), customer)\n",
    "            fel.enqueue(death_event)\n",
    "            num_customers_to_arrive += 1\n",
    "            if vendors.are_any_free():\n",
    "                vendor = vendors.get_free_server()\n",
    "                customer = customer_queue.remove_customer(current_time)\n",
    "                customer.service_start(current_time)\n",
    "                vendor.start_serving(current_time, customer)\n",
    "                service_time = get_service_time(customer.priority_score)\n",
    "                completion_of_service_time = current_time + service_time\n",
    "                new_event = create_service_end(completion_of_service_time, vendor)\n",
    "                fel.enqueue(new_event)\n",
    "            interarrival_time = get_interarrival_time()\n",
    "            next_arrival_time = interarrival_time + current_time\n",
    "            new_event = create_arrival(next_arrival_time)\n",
    "            fel.enqueue(new_event)\n",
    "        elif current_event_type == EventType.SERVICE_END:\n",
    "            vendor = current_event[2]\n",
    "            customer = vendor.finish_serving(current_time)\n",
    "            finished_customers.append(customer)\n",
    "            customer.service_end(current_time)\n",
    "            while not customer_queue.is_empty():\n",
    "                customer = customer_queue.remove_customer(current_time)\n",
    "                if not customer.is_dead:\n",
    "                    customer.service_start(current_time)\n",
    "                    vendor.start_serving(current_time, customer)\n",
    "                    service_time = get_service_time(customer.priority_score)\n",
    "                    completion_of_service_time = current_time + service_time\n",
    "                    new_event = create_service_end(completion_of_service_time, vendor)\n",
    "                    fel.enqueue(new_event)\n",
    "                    break\n",
    "        elif current_event_type == EventType.DEATH:\n",
    "            if customer.service_start_time is None:\n",
    "                death_counter += 1\n",
    "                customer.is_dead = True\n",
    "        \n",
    "    return customer_queue, vendors, finished_customers, last_time, death_counter"
   ]
  },
  {
   "cell_type": "code",
   "execution_count": 305,
   "metadata": {},
   "outputs": [],
   "source": [
    "customer_queue, vendors, finished_customers, last_time, death_counter = simulate_er(1000, 10)"
   ]
  },
  {
   "cell_type": "code",
   "execution_count": 306,
   "metadata": {},
   "outputs": [
    {
     "data": {
      "text/plain": [
       "2"
      ]
     },
     "execution_count": 306,
     "metadata": {},
     "output_type": "execute_result"
    }
   ],
   "source": [
    "death_counter"
   ]
  },
  {
   "cell_type": "code",
   "execution_count": 307,
   "metadata": {},
   "outputs": [
    {
     "name": "stdout",
     "output_type": "stream",
     "text": [
      "Considering  2  doctors\n",
      "Considering  3  doctors\n",
      "Considering  4  doctors\n",
      "Considering  5  doctors\n",
      "Considering  6  doctors\n",
      "Considering  7  doctors\n",
      "Considering  8  doctors\n",
      "Considering  9  doctors\n",
      "Considering  10  doctors\n",
      "Considering  11  doctors\n",
      "Considering  12  doctors\n",
      "Considering  13  doctors\n",
      "Considering  14  doctors\n",
      "Considering  15  doctors\n",
      "Considering  16  doctors\n",
      "Considering  17  doctors\n",
      "Considering  18  doctors\n",
      "Considering  19  doctors\n",
      "Considering  20  doctors\n"
     ]
    }
   ],
   "source": [
    "dc = []\n",
    "for i in range(2, 21):\n",
    "    print('Considering ', i, ' doctors')\n",
    "    customer_queue, vendors, finished_customers, last_time, death_counter = simulate_er(5000, i)\n",
    "    dc.append(death_counter)\n",
    "    #wait_times = [cust.get_wait_time() for cust in finished_customers]\n",
    "    #average_wait_times.append(np.mean(wait_times))"
   ]
  },
  {
   "cell_type": "code",
   "execution_count": 308,
   "metadata": {},
   "outputs": [
    {
     "data": {
      "text/plain": [
       "[<matplotlib.lines.Line2D at 0x7ff7f52abe10>]"
      ]
     },
     "execution_count": 308,
     "metadata": {},
     "output_type": "execute_result"
    },
    {
     "data": {
      "image/png": "[encoded data removed]",
      "text/plain": [
       "<Figure size 432x288 with 1 Axes>"
      ]
     },
     "metadata": {
      "needs_background": "light"
     },
     "output_type": "display_data"
    }
   ],
   "source": [
    "plt.plot(list(range(2, 21)), dc)"
   ]
  },
  {
   "cell_type": "code",
   "execution_count": 309,
   "metadata": {},
   "outputs": [
    {
     "data": {
      "text/plain": [
       "[3643, 2790, 1966, 1548, 847, 413, 320, 60, 16, 4, 0, 0, 0, 0, 0, 0, 0, 0, 0]"
      ]
     },
     "execution_count": 309,
     "metadata": {},
     "output_type": "execute_result"
    }
   ],
   "source": [
    "dc"
   ]
  },
  {
   "cell_type": "code",
   "execution_count": 257,
   "metadata": {},
   "outputs": [
    {
     "data": {
      "text/html": [
       "<div>\n",
       "<style scoped>\n",
       "    .dataframe tbody tr th:only-of-type {\n",
       "        vertical-align: middle;\n",
       "    }\n",
       "\n",
       "    .dataframe tbody tr th {\n",
       "        vertical-align: top;\n",
       "    }\n",
       "\n",
       "    .dataframe thead th {\n",
       "        text-align: right;\n",
       "    }\n",
       "</style>\n",
       "<table border=\"1\" class=\"dataframe\">\n",
       "  <thead>\n",
       "    <tr style=\"text-align: right;\">\n",
       "      <th></th>\n",
       "      <th>count</th>\n",
       "      <th>p(count)</th>\n",
       "    </tr>\n",
       "  </thead>\n",
       "  <tbody>\n",
       "    <tr>\n",
       "      <th>0</th>\n",
       "      <td>0</td>\n",
       "      <td>0.998484</td>\n",
       "    </tr>\n",
       "    <tr>\n",
       "      <th>1</th>\n",
       "      <td>1</td>\n",
       "      <td>0.001384</td>\n",
       "    </tr>\n",
       "    <tr>\n",
       "      <th>2</th>\n",
       "      <td>2</td>\n",
       "      <td>0.000132</td>\n",
       "    </tr>\n",
       "  </tbody>\n",
       "</table>\n",
       "</div>"
      ],
      "text/plain": [
       "   count  p(count)\n",
       "0      0  0.998484\n",
       "1      1  0.001384\n",
       "2      2  0.000132"
      ]
     },
     "execution_count": 257,
     "metadata": {},
     "output_type": "execute_result"
    }
   ],
   "source": [
    "customer_queue.compute_line_length_distribution(last_time)"
   ]
  },
  {
   "cell_type": "code",
   "execution_count": 258,
   "metadata": {},
   "outputs": [
    {
     "data": {
      "text/plain": [
       "0.5596824826482132"
      ]
     },
     "execution_count": 258,
     "metadata": {},
     "output_type": "execute_result"
    }
   ],
   "source": [
    "vendors.get_average_utilization(last_time)"
   ]
  },
  {
   "cell_type": "code",
   "execution_count": 259,
   "metadata": {},
   "outputs": [
    {
     "name": "stdout",
     "output_type": "stream",
     "text": [
      "0.005421676737609964\n"
     ]
    }
   ],
   "source": [
    "wait_times = [cust.get_wait_time() for cust in finished_customers]\n",
    "print(np.mean(wait_times))"
   ]
  },
  {
   "cell_type": "code",
   "execution_count": 260,
   "metadata": {},
   "outputs": [
    {
     "name": "stdout",
     "output_type": "stream",
     "text": [
      "18.424321034767754\n"
     ]
    }
   ],
   "source": [
    "system_times = [cust.get_time_in_system() for cust in finished_customers]\n",
    "print(np.mean(system_times))"
   ]
  },
  {
   "cell_type": "code",
   "execution_count": 255,
   "metadata": {},
   "outputs": [
    {
     "data": {
      "text/plain": [
       "(array([32., 36., 41., 33., 33., 39., 34., 40., 38., 33.]),\n",
       " array([  12.85398193,  229.09194621,  445.32991048,  661.56787475,\n",
       "         877.80583903, 1094.0438033 , 1310.28176758, 1526.51973185,\n",
       "        1742.75769612, 1958.9956604 , 2175.23362467]),\n",
       " <a list of 10 Patch objects>)"
      ]
     },
     "execution_count": 255,
     "metadata": {},
     "output_type": "execute_result"
    },
    {
     "data": {
      "image/png": "[encoded data removed]",
      "text/plain": [
       "<Figure size 432x288 with 1 Axes>"
      ]
     },
     "metadata": {
      "needs_background": "light"
     },
     "output_type": "display_data"
    }
   ],
   "source": [
    "plt.hist(system_times)"
   ]
  }
 ],
 "metadata": {
  "kernelspec": {
   "display_name": "Python 3",
   "language": "python",
   "name": "python3"
  },
  "language_info": {
   "codemirror_mode": {
    "name": "ipython",
    "version": 3
   },
   "file_extension": ".py",
   "mimetype": "text/x-python",
   "name": "python",
   "nbconvert_exporter": "python",
   "pygments_lexer": "ipython3",
   "version": "3.6.10"
  }
 },
 "nbformat": 4,
 "nbformat_minor": 4
}
