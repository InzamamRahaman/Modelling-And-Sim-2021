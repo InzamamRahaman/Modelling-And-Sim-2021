{
 "cells": [
  {
   "cell_type": "code",
   "execution_count": 21,
   "metadata": {},
   "outputs": [
    {
     "name": "stdout",
     "output_type": "stream",
     "text": [
      "Populating the interactive namespace from numpy and matplotlib\n"
     ]
    }
   ],
   "source": [
    "%pylab inline\n",
    "import numpy as np\n",
    "import pandas as pd\n",
    "from enum import Enum\n",
    "import heapq"
   ]
  },
  {
   "cell_type": "code",
   "execution_count": 47,
   "metadata": {},
   "outputs": [],
   "source": [
    "class PriorityQueue(object):\n",
    "    def __init__(self, keyfun=None, reverse=False):\n",
    "        mult = 1\n",
    "        if keyfun is None:\n",
    "            keyfun = lambda x: x[1]\n",
    "        if reverse:\n",
    "            mult = -1\n",
    "        self.keyfun = lambda x: mult * keyfun(x)\n",
    "        self.contents = []\n",
    "        \n",
    "    def enqueue(self, item):\n",
    "        heapq.heappush(self.contents, item)\n",
    "        \n",
    "    def dequeue(self):\n",
    "        if self.contents:\n",
    "            item = heapq.heappop(self.contents)\n",
    "            return item\n",
    "        return None\n",
    "    \n",
    "    def is_empty(self):\n",
    "        return not self.contents\n",
    "    \n",
    "    def __len__(self):\n",
    "        return len(self.contents)\n",
    "    \n",
    "    def __bool__(self):\n",
    "        return bool(self.contents)\n",
    "    \n",
    "    def __repr__(self):\n",
    "        return repr(self.contents)\n",
    "    \n",
    "    def __str__(self):\n",
    "        return str(self.contents)\n",
    "        "
   ]
  },
  {
   "cell_type": "code",
   "execution_count": 89,
   "metadata": {},
   "outputs": [],
   "source": [
    "class Customer(object):\n",
    "    def __init__(self, arrival_time):\n",
    "        self.arrival_time = arrival_time\n",
    "        self.service_start_time = None \n",
    "        self.service_end_time = None \n",
    "    \n",
    "    def service_start(self, time):\n",
    "        self.service_start_time = time\n",
    "    \n",
    "    def service_end(self, time):\n",
    "        self.service_end_time = time\n",
    "        \n",
    "    def wait_time(self):\n",
    "        if self.service_start_time is None:\n",
    "            raise ValueError(\"Cannot call wait time yet\")\n",
    "        return self.service_start_time - self.arrival_time\n",
    "    \n",
    "    def get_service_length(self):\n",
    "        if self.service_end_time is None:\n",
    "            raise ValueError(\"Cannot call wait time yet\")\n",
    "        return self.service_end_time - self.service_start_time\n",
    "    \n",
    "#     def get_time_in_system(self):\n",
    "#         return self.service_end_time - self.arrival_time"
   ]
  },
  {
   "cell_type": "code",
   "execution_count": 90,
   "metadata": {},
   "outputs": [],
   "source": [
    "class Server(object):\n",
    "    def __init__(self):\n",
    "        self.is_free = True\n",
    "        self.utilization_time = 0\n",
    "        self.temp_time = 0\n",
    "        self.customer = None\n",
    "    \n",
    "    def start_serving(self, time, customer):\n",
    "        self.is_free = False\n",
    "        self.temp_time = time\n",
    "        self.customer = customer\n",
    "    \n",
    "    def finish_serving(self, time):\n",
    "        self.is_free = True \n",
    "        self.utilization_time += (time - self.temp_time)\n",
    "        self.temp_time = 0\n",
    "        customer_to_return = self.customer\n",
    "        self.customer = None\n",
    "        return customer_to_return\n",
    "        \n",
    "    \n",
    "    def get_utilization(self, total_time):\n",
    "        return self.utilization_time / total_time"
   ]
  },
  {
   "cell_type": "code",
   "execution_count": 91,
   "metadata": {},
   "outputs": [],
   "source": [
    "class EventType(Enum):\n",
    "    ARRIVAL = 1\n",
    "    SERVICE_START = 2\n",
    "    SERVICE_END = 3\n",
    "    \n",
    "def create_arrival(time):\n",
    "    return (time, EventType.ARRIVAL)\n",
    "\n",
    "def create_service_start(time):\n",
    "    return (time, EventType.SERVICE_START)\n",
    "\n",
    "def create_service_end(time, server=None):\n",
    "    return (time, EventType.SERVICE_END, server)"
   ]
  },
  {
   "cell_type": "code",
   "execution_count": 92,
   "metadata": {},
   "outputs": [],
   "source": [
    "class FutureEventList(object):\n",
    "    def __init__(self):\n",
    "        self.events = PriorityQueue()\n",
    "    \n",
    "    def enqueue(self, event):\n",
    "        self.events.enqueue(event)\n",
    "    \n",
    "    def dequeue(self):\n",
    "        return self.events.dequeue()"
   ]
  },
  {
   "cell_type": "code",
   "execution_count": 93,
   "metadata": {},
   "outputs": [],
   "source": [
    "class CustomerQueue(object):\n",
    "    def __init__(self):\n",
    "        self.customers = []\n",
    "        self.last_update = 0\n",
    "        self.lengths = [0]\n",
    "        self.time_held = []\n",
    "    \n",
    "    def add_customer(self, arrival_time):\n",
    "        customer = Customer(arrival_time)\n",
    "        self.customers.append(customer)\n",
    "        new_length = self.lengths[-1] + 1\n",
    "        self.lengths.append(new_length)\n",
    "        self.time_held.append(arrival_time - self.last_update)\n",
    "        self.last_update = arrival_time\n",
    "        \n",
    "    def is_empty(self):\n",
    "        return not self.customers\n",
    "        \n",
    "    def remove_customer(self, removal_time):\n",
    "        customer = self.customers.pop(0)\n",
    "        new_length = self.lengths[-1] - 1\n",
    "        self.lengths.append(new_length)\n",
    "        self.time_held.append(removal_time - self.last_update)\n",
    "        self.last_update = removal_time\n",
    "        return customer\n",
    "    \n",
    "    def compute_waitime_distribution(self, total_time):\n",
    "        arr = []\n",
    "        for count, time in zip(self.lengths, self.time_held):\n",
    "            arr.append([count, time])\n",
    "        df = pd.DataFrame(arr, columns=['count', 'time'])\n",
    "        df = df.groupby('count').agg({'time': 'sum'}).reset_index()\n",
    "        df['time'] /= total_time\n",
    "        df = df.rename(columns={'time': 'p(count)'})\n",
    "        return df"
   ]
  },
  {
   "cell_type": "code",
   "execution_count": 94,
   "metadata": {},
   "outputs": [],
   "source": [
    "class ServerSystem(object):\n",
    "    def __init__(self, num_servers=1):\n",
    "        self.num_serves = num_servers\n",
    "        self.servers = []\n",
    "        for i in range(num_servers):\n",
    "            self.servers.append(Server())\n",
    "    \n",
    "    def are_any_free(self):\n",
    "        return any([server.is_free for server in self.servers])\n",
    "    \n",
    "    def get_free_server(self):\n",
    "        for curr_server in self.servers:\n",
    "            if curr_server.is_free:\n",
    "                return curr_server\n",
    "        return None\n",
    "    \n",
    "    def get_average_utilization(self, total_time):\n",
    "        utilizations = [s.get_utilization(total_time) for s in self.servers]\n",
    "        return np.mean(utilizations)"
   ]
  },
  {
   "cell_type": "code",
   "execution_count": 95,
   "metadata": {},
   "outputs": [],
   "source": [
    "def get_interarrival_time():\n",
    "    return np.random.uniform(1, 5)\n",
    "\n",
    "def get_service_time():\n",
    "    choices = np.array([1, 2, 3, 4, 5, 6])\n",
    "    probs = np.array([0.05, 0.40, 0.35, 0.10, 0.05, 0.05])\n",
    "    return np.random.choice(a=choices, p=probs)"
   ]
  },
  {
   "cell_type": "code",
   "execution_count": 102,
   "metadata": {},
   "outputs": [],
   "source": [
    "def simulate_doubles_vendor(customer_limit):\n",
    "    customer_queue = CustomerQueue()\n",
    "    vendors = ServerSystem(1)\n",
    "    fel = FutureEventList()\n",
    "    num_customers_to_arrive = 0\n",
    "    finished_customers = []\n",
    "    \n",
    "    # our first arrival\n",
    "    interarrival_time = get_interarrival_time()\n",
    "    first_arrival_time = 0 + interarrival_time\n",
    "    first_arrival = create_arrival(first_arrival_time)\n",
    "    fel.enqueue(first_arrival)\n",
    "    last_time = 0\n",
    "   # i = 0\n",
    "    \n",
    "    while num_customers_to_arrive <= customer_limit:\n",
    "#         i += 1\n",
    "#         print(i)\n",
    "        current_event = fel.dequeue() # current event to process\n",
    "        #print(current_event)\n",
    "        current_time = current_event[0]\n",
    "        last_time = current_time\n",
    "        current_event_type =  current_event[1]\n",
    "        if current_event_type == EventType.ARRIVAL:\n",
    "            customer_queue.add_customer(current_time)\n",
    "            num_customers_to_arrive += 1\n",
    "            if vendors.are_any_free():\n",
    "                vendor = vendors.get_free_server()\n",
    "                customer = customer_queue.remove_customer(current_time)\n",
    "                customer.service_start(current_time)\n",
    "                vendor.start_serving(current_time, customer)\n",
    "                service_time = get_service_time()\n",
    "                completion_of_service_time = current_time + service_time\n",
    "                new_event = create_service_end(completion_of_service_time, vendor)\n",
    "                fel.enqueue(new_event)\n",
    "            interarrival_time = get_interarrival_time()\n",
    "            next_arrival_time = interarrival_time + current_time\n",
    "            new_event = create_arrival(next_arrival_time)\n",
    "            fel.enqueue(new_event)\n",
    "        elif current_event_type == EventType.SERVICE_END:\n",
    "            vendor = current_event[2]\n",
    "            customer = vendor.finish_serving(current_time)\n",
    "            finished_customers.append(customer)\n",
    "            customer.service_end(current_time)\n",
    "            if not customer_queue.is_empty():\n",
    "                customer = customer_queue.remove_customer(current_time)\n",
    "                customer.service_start(current_time)\n",
    "                vendor.start_serving(current_time, customer)\n",
    "                service_time = get_service_time()\n",
    "                completion_of_service_time = current_time + service_time\n",
    "                new_event = create_service_end(completion_of_service_time, vendor)\n",
    "                fel.enqueue(new_event)\n",
    "        \n",
    "    return customer_queue, vendors, finished_customers, last_time"
   ]
  },
  {
   "cell_type": "code",
   "execution_count": 103,
   "metadata": {},
   "outputs": [],
   "source": [
    "customer_queue, vendors, finished_customers, last_time = simulate_doubles_vendor(500)"
   ]
  },
  {
   "cell_type": "code",
   "execution_count": 104,
   "metadata": {},
   "outputs": [
    {
     "data": {
      "text/html": [
       "<div>\n",
       "<style scoped>\n",
       "    .dataframe tbody tr th:only-of-type {\n",
       "        vertical-align: middle;\n",
       "    }\n",
       "\n",
       "    .dataframe tbody tr th {\n",
       "        vertical-align: top;\n",
       "    }\n",
       "\n",
       "    .dataframe thead th {\n",
       "        text-align: right;\n",
       "    }\n",
       "</style>\n",
       "<table border=\"1\" class=\"dataframe\">\n",
       "  <thead>\n",
       "    <tr style=\"text-align: right;\">\n",
       "      <th></th>\n",
       "      <th>count</th>\n",
       "      <th>p(count)</th>\n",
       "    </tr>\n",
       "  </thead>\n",
       "  <tbody>\n",
       "    <tr>\n",
       "      <th>0</th>\n",
       "      <td>0</td>\n",
       "      <td>0.261420</td>\n",
       "    </tr>\n",
       "    <tr>\n",
       "      <th>1</th>\n",
       "      <td>1</td>\n",
       "      <td>0.230926</td>\n",
       "    </tr>\n",
       "    <tr>\n",
       "      <th>2</th>\n",
       "      <td>2</td>\n",
       "      <td>0.200933</td>\n",
       "    </tr>\n",
       "    <tr>\n",
       "      <th>3</th>\n",
       "      <td>3</td>\n",
       "      <td>0.126447</td>\n",
       "    </tr>\n",
       "    <tr>\n",
       "      <th>4</th>\n",
       "      <td>4</td>\n",
       "      <td>0.086598</td>\n",
       "    </tr>\n",
       "    <tr>\n",
       "      <th>5</th>\n",
       "      <td>5</td>\n",
       "      <td>0.059111</td>\n",
       "    </tr>\n",
       "    <tr>\n",
       "      <th>6</th>\n",
       "      <td>6</td>\n",
       "      <td>0.023965</td>\n",
       "    </tr>\n",
       "    <tr>\n",
       "      <th>7</th>\n",
       "      <td>7</td>\n",
       "      <td>0.006917</td>\n",
       "    </tr>\n",
       "    <tr>\n",
       "      <th>8</th>\n",
       "      <td>8</td>\n",
       "      <td>0.003683</td>\n",
       "    </tr>\n",
       "  </tbody>\n",
       "</table>\n",
       "</div>"
      ],
      "text/plain": [
       "   count  p(count)\n",
       "0      0  0.261420\n",
       "1      1  0.230926\n",
       "2      2  0.200933\n",
       "3      3  0.126447\n",
       "4      4  0.086598\n",
       "5      5  0.059111\n",
       "6      6  0.023965\n",
       "7      7  0.006917\n",
       "8      8  0.003683"
      ]
     },
     "execution_count": 104,
     "metadata": {},
     "output_type": "execute_result"
    }
   ],
   "source": [
    "customer_queue.compute_waitime_distribution(last_time)"
   ]
  },
  {
   "cell_type": "code",
   "execution_count": 105,
   "metadata": {},
   "outputs": [
    {
     "data": {
      "text/plain": [
       "0.9458605048096719"
      ]
     },
     "execution_count": 105,
     "metadata": {},
     "output_type": "execute_result"
    }
   ],
   "source": [
    "vendors.get_average_utilization(last_time)"
   ]
  },
  {
   "cell_type": "code",
   "execution_count": 106,
   "metadata": {},
   "outputs": [
    {
     "name": "stdout",
     "output_type": "stream",
     "text": [
      "5.5715635910927634\n"
     ]
    }
   ],
   "source": [
    "wait_times = [cust.wait_time() for cust in finished_customers]\n",
    "print(np.mean(wait_times))"
   ]
  },
  {
   "cell_type": "code",
   "execution_count": 107,
   "metadata": {},
   "outputs": [
    {
     "name": "stdout",
     "output_type": "stream",
     "text": [
      "5.5715635910927634\n"
     ]
    }
   ],
   "source": [
    "system_times = [cust.get_time_in_system() for cust in finished_customers]\n",
    "print(np.mean(wait_times))"
   ]
  },
  {
   "cell_type": "code",
   "execution_count": null,
   "metadata": {},
   "outputs": [],
   "source": []
  }
 ],
 "metadata": {
  "kernelspec": {
   "display_name": "Python 3",
   "language": "python",
   "name": "python3"
  },
  "language_info": {
   "codemirror_mode": {
    "name": "ipython",
    "version": 3
   },
   "file_extension": ".py",
   "mimetype": "text/x-python",
   "name": "python",
   "nbconvert_exporter": "python",
   "pygments_lexer": "ipython3",
   "version": "3.6.10"
  }
 },
 "nbformat": 4,
 "nbformat_minor": 4
}
