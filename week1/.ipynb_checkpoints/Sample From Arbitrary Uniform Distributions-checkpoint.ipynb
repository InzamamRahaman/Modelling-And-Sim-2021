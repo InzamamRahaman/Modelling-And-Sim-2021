{
 "cells": [
  {
   "cell_type": "code",
   "execution_count": 1,
   "metadata": {},
   "outputs": [
    {
     "name": "stdout",
     "output_type": "stream",
     "text": [
      "Populating the interactive namespace from numpy and matplotlib\n"
     ]
    }
   ],
   "source": [
    "%pylab inline\n",
    "import numpy as np"
   ]
  },
  {
   "cell_type": "markdown",
   "metadata": {},
   "source": [
    "# Arbitrary Uniform Distributions\n",
    "\n",
    "Losely speaking, a distribution is uniform, whether discrete or continuous, if every element is the sample space is equally likely. Most standard implementations of higher-level programming languages provide a way to sample from the standard continous uniform distribution. This is the continous variant of the uniform distribution bounded between 0 and 1. Using this, we can sample from any other distribution. However, sampling from other uniform distributions is the most simple improvement, so we shall examine them first"
   ]
  },
  {
   "cell_type": "markdown",
   "metadata": {},
   "source": [
    "## Continous Uniform\n",
    "\n",
    "Consider the continuous uniform distribution bounded between $a$ and $b$. Think of the line segment between $a$ and $b$, Suppose that we travel a random fraction of that line segment. This can be considered equivalent to sampling from this distribution"
   ]
  },
  {
   "cell_type": "code",
   "execution_count": 2,
   "metadata": {},
   "outputs": [],
   "source": [
    "def sample_continuous_uniform(a, b):\n",
    "    diff = b - a\n",
    "    frac = np.random.random() # generate random number from standard uniform\n",
    "    return a + frac * diff"
   ]
  },
  {
   "cell_type": "code",
   "execution_count": 3,
   "metadata": {},
   "outputs": [
    {
     "name": "stdout",
     "output_type": "stream",
     "text": [
      "12.979754296574436\n"
     ]
    }
   ],
   "source": [
    "ex1 = sample_continuous_uniform(2, 23)\n",
    "print(ex1)"
   ]
  },
  {
   "cell_type": "markdown",
   "metadata": {},
   "source": [
    "## Discrete Uniform\n",
    "\n",
    "The case of the discrete uniform is similiar, except we round the result appropriately "
   ]
  },
  {
   "cell_type": "code",
   "execution_count": 4,
   "metadata": {},
   "outputs": [],
   "source": [
    "def sample_discrete_uniform(a, b):\n",
    "    res = sample_continuous_uniform(a, b)\n",
    "    return round(res)"
   ]
  },
  {
   "cell_type": "code",
   "execution_count": 6,
   "metadata": {},
   "outputs": [
    {
     "name": "stdout",
     "output_type": "stream",
     "text": [
      "10\n"
     ]
    }
   ],
   "source": [
    "ex1 = sample_discrete_uniform(2, 23)\n",
    "print(ex1)"
   ]
  }
 ],
 "metadata": {
  "kernelspec": {
   "display_name": "Python 3",
   "language": "python",
   "name": "python3"
  },
  "language_info": {
   "codemirror_mode": {
    "name": "ipython",
    "version": 3
   },
   "file_extension": ".py",
   "mimetype": "text/x-python",
   "name": "python",
   "nbconvert_exporter": "python",
   "pygments_lexer": "ipython3",
   "version": "3.8.5"
  }
 },
 "nbformat": 4,
 "nbformat_minor": 4
}
