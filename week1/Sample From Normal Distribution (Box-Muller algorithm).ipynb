{
 "cells": [
  {
   "cell_type": "markdown",
   "metadata": {},
   "source": [
    "Many interesting phenomenon fall on what a Normal (Gaussian) distribution. Thus, learning to simulate a Normal distribution is important for a scientist's toolkit. We can go about drawing from a normal in a roundabout way by considering the equation of a circle.\n",
    "\n",
    "Recall that a circle may be described by the following equation: $$r^{2} = x^{2} + y^{2}$$. Also recall that the point $(x, y)$ can be represented as $r\\theta$ in polar coordinates such that $x = r\\cos(\\theta)$ and $x = r\\sin(\\theta)$.\n",
    "Now let us consider the PDF of normal distribution (which takes two parameters, the mean, $\\mu$ and std deviation $\\sigma^{2}$) [we write as $\\mathcal{N}(\\mu, \\sigma^{2})$]\n",
    "$$p(x) = \\frac{1}{\\sqrt{2\\sigma^{2}\\pi}}e^{-\\frac{(x - \\mu)^{2}}{2\\sigma^{2}}}$$\n",
    "\n",
    "The standard normal is one with mean 0 and std. deviation 1, i.e $\\mathcal{N}(0, 1)$. Assuming this to be the case, we have for any $x$:\n",
    "$$p(x) = \\frac{1}{\\sqrt{2\\pi}}e^{-\\frac{x^2}{2}}$$.\n",
    "\n",
    "Let $X \\sim \\mathcal{N}(0, 1)$ and $Y \\sim \\mathcal{N}(0, 1)$, then\n",
    "\n",
    "$$p(x) = \\frac{1}{\\sqrt{2\\pi}}e^{-\\frac{x^2}{2}}$$\n",
    "and \n",
    "$$p(y) = \\frac{1}{\\sqrt{2\\pi}}e^{-\\frac{y^2}{2}}$$\n",
    "\n",
    "If we take $X$ and $Y$ to be independent, then \n",
    "$$p(x, y) = p(x)p(y) = \\frac{1}{\\sqrt{2\\pi}}e^{-\\frac{x^2}{2}} \\times \\frac{1}{\\sqrt{2\\pi}}e^{-\\frac{y^2}{2}}$$\n",
    "$$p(x, y) = \\frac{1}{\\sqrt{2\\pi}}(e^{-\\frac{x^2}{2}} \\times e^{-\\frac{y^2}{2}})$$\n",
    "$$p(x, y) = \\frac{1}{\\sqrt{2\\pi}}e^{-\\frac{x^2 + y^2}{2}}$$\n",
    "\n",
    "Recall that $r^{2} = x^{2} + y^{2}$. \n",
    "\n",
    "$$p(x, y) = \\frac{1}{\\sqrt{2\\pi}}e^{-\\frac{r^2}{2}}$$\n",
    "\n",
    "\n",
    "Moreover, recall that $\\frac{1}{a}$ is the PDF for $Uniform(0, a).$ and that if we take $r$ as randomly sampled then we can generate corresponding values for $x$ and $y$. We may sample from the former using the usual procedure to sample from a uniform and the later using the inverse transform method.\n",
    "\n"
   ]
  },
  {
   "cell_type": "code",
   "execution_count": 8,
   "metadata": {
    "collapsed": false
   },
   "outputs": [
    {
     "name": "stdout",
     "output_type": "stream",
     "text": [
      "0.585714354197\n"
     ]
    }
   ],
   "source": [
    "import numpy as np\n",
    "\n",
    "def sample_from_standard_normal():\n",
    "    u1 = np.random.uniform(0, 1)\n",
    "    u2 = np.random.uniform(0, 1)\n",
    "    r = np.sqrt(-2 * np.log(u1))\n",
    "    theta = 2 * np.pi * u2 \n",
    "    return r * np.cos(theta)\n",
    "\n",
    "sample = sample_from_standard_normal()\n",
    "print(sample)"
   ]
  },
  {
   "cell_type": "code",
   "execution_count": 12,
   "metadata": {
    "collapsed": false
   },
   "outputs": [
    {
     "name": "stdout",
     "output_type": "stream",
     "text": [
      "Mean from  10000  is  -0.0107528962204\n",
      "Std. Deviation from  10000  is  1.01004023518\n"
     ]
    }
   ],
   "source": [
    "num_samples = 10000\n",
    "arr = [sample_from_standard_normal() for _ in range(num_samples)]\n",
    "mean = np.mean(arr)\n",
    "std = np.std(arr)\n",
    "\n",
    "print('Mean from ', num_samples, ' is ', mean)\n",
    "print('Std. Deviation from ', num_samples, ' is ', std)"
   ]
  },
  {
   "cell_type": "code",
   "execution_count": 15,
   "metadata": {
    "collapsed": false
   },
   "outputs": [
    {
     "name": "stdout",
     "output_type": "stream",
     "text": [
      "Actual mean is  4.96313586273\n",
      "Actual std is  2.00034781406\n"
     ]
    }
   ],
   "source": [
    "def unscale(y, mean, std):\n",
    "    return y * std + mean \n",
    "\n",
    "def sample_from_normal(mean, std):\n",
    "    y = sample_from_standard_normal()\n",
    "    return unscale(y, mean, std)\n",
    "\n",
    "\n",
    "mean1 = 5\n",
    "std1 = 2\n",
    "arr1 = [sample_from_normal(mean1, std1) for _ in range(num_samples)]\n",
    "\n",
    "actual_mean = np.mean(arr1)\n",
    "actual_std = np.std(arr1)\n",
    "\n",
    "print('Actual mean is ', actual_mean)\n",
    "print('Actual std is ', actual_std)\n",
    "    \n"
   ]
  },
  {
   "cell_type": "code",
   "execution_count": null,
   "metadata": {
    "collapsed": true
   },
   "outputs": [],
   "source": []
  }
 ],
 "metadata": {
  "anaconda-cloud": {},
  "kernelspec": {
   "display_name": "Python [conda root]",
   "language": "python",
   "name": "conda-root-py"
  },
  "language_info": {
   "codemirror_mode": {
    "name": "ipython",
    "version": 3
   },
   "file_extension": ".py",
   "mimetype": "text/x-python",
   "name": "python",
   "nbconvert_exporter": "python",
   "pygments_lexer": "ipython3",
   "version": "3.5.2"
  }
 },
 "nbformat": 4,
 "nbformat_minor": 1
}
