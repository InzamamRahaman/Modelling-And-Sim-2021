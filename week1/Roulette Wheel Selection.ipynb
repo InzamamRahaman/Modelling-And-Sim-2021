{
 "cells": [
  {
   "cell_type": "markdown",
   "metadata": {},
   "source": [
    "Sometimes, we will need to sample from a non-numerical and/or non-ordinal space. Take, for instance, a pet food company that is running a promotion as follows:\n",
    "1. Each bag of dog food contains one of three letters: P, U, or Y with some probability for each\n",
    "2. If a customer gets enough letters to spell PUPPY three times, they win a free bag of dog food\n",
    "\n",
    "| x | P(X = x)      |\n",
    "| --|:-------------:|\n",
    "| P | 0.6           |\n",
    "| U | 0.25          |\n",
    "| Y | 0.15          |\n",
    "\n",
    "To simulate the above we would need to be able to draw P, U, or Y in proportion to their probabilities. We can do this with roulette wheel selection. The core idea of roulette wheel selection is to consider a roulette wheel. On this roulette wheel, each of our choices hold a segment of the circumfrence proportional to their probabilities. We \"spin\" the wheel by randomly selecting a random uniform number from 0 to 1 inclusive. The value we sample the region containing the \"point\" represented by our uniform random variable."
   ]
  },
  {
   "cell_type": "code",
   "execution_count": 1,
   "metadata": {
    "collapsed": false
   },
   "outputs": [
    {
     "name": "stdout",
     "output_type": "stream",
     "text": [
      "Populating the interactive namespace from numpy and matplotlib\n"
     ]
    }
   ],
   "source": [
    "%pylab inline \n",
    "import numpy"
   ]
  },
  {
   "cell_type": "code",
   "execution_count": 2,
   "metadata": {
    "collapsed": true
   },
   "outputs": [],
   "source": [
    "def roulette_wheel_sample(table):\n",
    "    elems = []\n",
    "    probs = []\n",
    "    for elem, prob in table.items():\n",
    "        elems.append(elem)\n",
    "        probs.append(prob)\n",
    "    probs = np.cumsum(probs)\n",
    "    u = numpy.random.uniform(0, 1)\n",
    "    for val, p in zip(elems, probs):\n",
    "        if u <= p:\n",
    "            return val"
   ]
  },
  {
   "cell_type": "code",
   "execution_count": 3,
   "metadata": {
    "collapsed": false
   },
   "outputs": [
    {
     "name": "stdout",
     "output_type": "stream",
     "text": [
      "Sampled  Y\n"
     ]
    }
   ],
   "source": [
    "table = {\n",
    "    'P': 0.6,\n",
    "    'U': 0.25,\n",
    "    'Y': 0.15\n",
    "}\n",
    "sample = roulette_wheel_sample(table)\n",
    "print('Sampled ', sample)"
   ]
  },
  {
   "cell_type": "markdown",
   "metadata": {},
   "source": [
    "The above version of the function is a bit inefficient in that we need to compute the \"wheel\" for every sample.\n",
    "A more efficient solution would be to cache the wheel to sample again. We can do neatly this in two ways:\n",
    "1. Write a class that is constructed using a table\n",
    "2. Write a higher order function that returns a closure with access to the table"
   ]
  },
  {
   "cell_type": "code",
   "execution_count": 4,
   "metadata": {
    "collapsed": false
   },
   "outputs": [
    {
     "data": {
      "text/plain": [
       "'P'"
      ]
     },
     "execution_count": 4,
     "metadata": {},
     "output_type": "execute_result"
    }
   ],
   "source": [
    "# Using OOP \n",
    "class RouletteWheel(object):\n",
    "    \n",
    "    def __init__(self, table):\n",
    "        self.elems = []\n",
    "        self.probs = []\n",
    "        for elem, prob in table.items():\n",
    "            self.elems.append(elem)\n",
    "            self.probs.append(prob)\n",
    "        self.probs = np.cumsum(self.probs)\n",
    "        \n",
    "    def sample(self):\n",
    "        u = numpy.random.uniform(0, 1)\n",
    "        for val, p in zip(self.elems, self.probs):\n",
    "            if u <= p:\n",
    "                return val\n",
    "\n",
    "wheel = RouletteWheel(table)\n",
    "wheel.sample()"
   ]
  },
  {
   "cell_type": "code",
   "execution_count": 5,
   "metadata": {
    "collapsed": false
   },
   "outputs": [
    {
     "data": {
      "text/plain": [
       "'P'"
      ]
     },
     "execution_count": 5,
     "metadata": {},
     "output_type": "execute_result"
    }
   ],
   "source": [
    "\n",
    "# Using higher order functions\n",
    "def generate_wheel(table):\n",
    "    elems = []\n",
    "    probs = []\n",
    "    for elem, prob in table.items():\n",
    "        elems.append(elem)\n",
    "        probs.append(prob)\n",
    "    probs = np.cumsum(probs)\n",
    "    \n",
    "    # Closure can refer to above variables in generate_wheel \n",
    "    def sample():\n",
    "        u = numpy.random.uniform(0, 1)\n",
    "        for val, p in zip(elems, probs):\n",
    "            if u <= p:\n",
    "                return val\n",
    "    # return created function\n",
    "    return sample\n",
    "\n",
    "wheel = generate_wheel(table)\n",
    "wheel()"
   ]
  }
 ],
 "metadata": {
  "anaconda-cloud": {},
  "kernelspec": {
   "display_name": "Python [conda root]",
   "language": "python",
   "name": "conda-root-py"
  },
  "language_info": {
   "codemirror_mode": {
    "name": "ipython",
    "version": 3
   },
   "file_extension": ".py",
   "mimetype": "text/x-python",
   "name": "python",
   "nbconvert_exporter": "python",
   "pygments_lexer": "ipython3",
   "version": "3.5.2"
  }
 },
 "nbformat": 4,
 "nbformat_minor": 1
}
