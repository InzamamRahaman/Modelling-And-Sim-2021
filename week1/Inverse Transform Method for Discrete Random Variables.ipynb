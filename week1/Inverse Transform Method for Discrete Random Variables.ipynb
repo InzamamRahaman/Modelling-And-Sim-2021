{
 "cells": [
  {
   "cell_type": "markdown",
   "metadata": {},
   "source": [
    "Consider the case where some discrete random variable $X$ can be described by a PMF $f$ and CDF $F$, where $F(x) = \\sum_{0}^{x}f(x)$. Recall that $\\forall x \\in X, 0 \\leq f(x) \\leq 1, 0 \\leq F(x) \\leq 1$. Also, recall that for $x_{max} = max(X), F(x_{max}) = 1$.\n",
    "\n",
    "Most programming languages allow you to generate a random uniform number in the range 0 to 1 inclusive. Since probabilities lie within the range 0 to 1 inclusive, this is equivalent to generating a probability. Recall that $F: X \\rightarrow \\mathbb{R}$. Hence, $F^{-1}: \\mathbb{R} \\rightarrow X$. However, the inverse of $F$ might not be easy to find or might not exist in a closed, analytical form for discrete random variables (NB: this is not always the case, and such cases, we can use the inverse [as will be seen later]). Consequently, we can use an algorithmic procedure to find, given a probability, a corresponding value for $x \\in X$.\n",
    "\n",
    "By the definition of $F$, we can set-up \"fences\" for different values of $x$. If the probability we generate is within a particular $x$'s fence, then we say that $x$ was the appropriate inverse. Consider $X \\sim \\text{Bin}(10, 0.4)$ and that we randomly generate a probability of 0.19. "
   ]
  },
  {
   "cell_type": "code",
   "execution_count": 1,
   "metadata": {
    "collapsed": false
   },
   "outputs": [
    {
     "name": "stdout",
     "output_type": "stream",
     "text": [
      "Populating the interactive namespace from numpy and matplotlib\n"
     ]
    }
   ],
   "source": [
    "# import statements\n",
    "%pylab inline\n",
    "import numpy # for uniform sampling\n",
    "from scipy import misc # for combinations, i.e. n choose k, function\n",
    "from scipy import interpolate # to make plots smooth\n",
    "\n",
    "def binomialf1(x):\n",
    "    \"\"\"\n",
    "    Computes probability of x successes in a binomial distributed random variable \n",
    "    for 10 trials with probability of success being 0.4\n",
    "    @param x: the number of successes\n",
    "    \"\"\"\n",
    "    n = 10\n",
    "    p = 0.4\n",
    "    num_combs = misc.comb(n, x)\n",
    "    prob = (p ** x) * ((1 - p) ** (n - x)) \n",
    "    return num_combs * prob"
   ]
  },
  {
   "cell_type": "code",
   "execution_count": 2,
   "metadata": {
    "collapsed": false
   },
   "outputs": [
    {
     "data": {
      "image/png": "[encoded data removed]",
      "text/plain": [
       "<matplotlib.figure.Figure at 0x10c5a6240>"
      ]
     },
     "metadata": {},
     "output_type": "display_data"
    }
   ],
   "source": [
    "# Get values, stored as numpy arrays for consistency \n",
    "x = numpy.array(list(range(1, 11)))\n",
    "f_x_vals = numpy.array(list(map(binomialf1, x)))\n",
    "F_x_vals = (numpy.cumsum(f_x_vals))\n",
    "f = interpolate.interp1d(x, F_x_vals, kind='cubic')\n",
    "\n",
    "# Create smoothed versions for a nicer plot\n",
    "x_prime = numpy.linspace(1, 10, num=100, endpoint=True)\n",
    "y_prime = f(x_prime)\n",
    "\n",
    "# plot the smoothed values\n",
    "plt.plot(x_prime, y_prime)\n",
    "plt.ylabel('$F(x)$')\n",
    "plt.xlabel('x')\n",
    "plt.title('Example of Inverse Transform on $X \\sim Bin(10, 0.4)$')\n",
    "\n",
    "# draw vertical lines for \"fences\"\n",
    "for i in x:\n",
    "    plt.axvline(x=i, color='red', ls='-')\n",
    "    \n",
    "plt.axhline(y=numpy.random.uniform(), color='green') # get random proabbility\n",
    "\n",
    "plt.show()"
   ]
  },
  {
   "cell_type": "markdown",
   "metadata": {},
   "source": [
    "In the above plot, the sample of $X$ is the $x$ value corresponding to the red line right after the point where the blue curve of the CDF $F$ and the green line of the randomly choosen probability intersect."
   ]
  },
  {
   "cell_type": "code",
   "execution_count": 3,
   "metadata": {
    "collapsed": true
   },
   "outputs": [],
   "source": [
    "\n",
    "\n",
    "def inverse_transform_sampling(f, x_min=1):\n",
    "    \"\"\"\n",
    "    @param f: a function that gives us the probability of some x\n",
    "    @param x_min: miniumum value that x can take\n",
    "    \"\"\"\n",
    "    u = numpy.random.uniform(0, 1) # sample from uniform distribution in [0, 1]\n",
    "    x_curr = x_min\n",
    "    x_val = None \n",
    "    p_curr = 0\n",
    "    while True: # if x_max is None, we enter an infinite loop until we break out\n",
    "        p_curr += f(x_curr)\n",
    "        if p_curr >= u:\n",
    "            x_val = x_curr\n",
    "            break\n",
    "        x_curr += 1\n",
    "    return x_val \n",
    "\n",
    "\n",
    "    \n",
    "    "
   ]
  },
  {
   "cell_type": "code",
   "execution_count": 4,
   "metadata": {
    "collapsed": false
   },
   "outputs": [
    {
     "name": "stdout",
     "output_type": "stream",
     "text": [
      "First random sample is  5\n"
     ]
    }
   ],
   "source": [
    "sample = inverse_transform_sampling(binomialf1)\n",
    "print('First random sample is ', sample)"
   ]
  },
  {
   "cell_type": "code",
   "execution_count": null,
   "metadata": {
    "collapsed": true
   },
   "outputs": [],
   "source": []
  }
 ],
 "metadata": {
  "anaconda-cloud": {},
  "kernelspec": {
   "display_name": "Python [conda root]",
   "language": "python",
   "name": "conda-root-py"
  },
  "language_info": {
   "codemirror_mode": {
    "name": "ipython",
    "version": 3
   },
   "file_extension": ".py",
   "mimetype": "text/x-python",
   "name": "python",
   "nbconvert_exporter": "python",
   "pygments_lexer": "ipython3",
   "version": "3.5.2"
  }
 },
 "nbformat": 4,
 "nbformat_minor": 1
}
