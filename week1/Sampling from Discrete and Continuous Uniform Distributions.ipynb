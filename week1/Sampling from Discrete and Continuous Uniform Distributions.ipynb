{
 "cells": [
  {
   "cell_type": "markdown",
   "metadata": {},
   "source": [
    "Many of the methods that we have examined so far assumed access to a sampler on a continuous uniform distribution in the range [0, 1]. However, there are times when it is useful for us to draw from continuous distributions not in this range or on discrete uniform distributions.\n"
   ]
  },
  {
   "cell_type": "markdown",
   "metadata": {},
   "source": [
    "**Continuous Case** \n",
    "\n",
    "Consider that we want to sample from $Uniform(a, b)$. If we sample from $Uniform(0, 1)$, this can represent the \"length\" along the line from $a$ to $b$ that we are traversing. We can then sample our stopping point "
   ]
  },
  {
   "cell_type": "code",
   "execution_count": 1,
   "metadata": {
    "collapsed": true
   },
   "outputs": [],
   "source": [
    "import numpy as np"
   ]
  },
  {
   "cell_type": "code",
   "execution_count": 2,
   "metadata": {
    "collapsed": false
   },
   "outputs": [
    {
     "name": "stdout",
     "output_type": "stream",
     "text": [
      "13.808561146623793\n"
     ]
    }
   ],
   "source": [
    "def sample_cont_uniform(a, b):\n",
    "    u = np.random.uniform(0, 1) # sample from Uniform(0, 1)\n",
    "    diff = b - a # get max length possible\n",
    "    distance = diff * u  # travel a fraction of that length\n",
    "    return (a + distance) # go that far away from min value\n",
    "\n",
    "sample = sample_cont_uniform(5.4, 25.6)\n",
    "print(sample)"
   ]
  },
  {
   "cell_type": "markdown",
   "metadata": {},
   "source": [
    "**Discrete Case**\n",
    "\n",
    "The discrete case is similar, except we need to round down the result to ensure that we get an integer back"
   ]
  },
  {
   "cell_type": "code",
   "execution_count": 3,
   "metadata": {
    "collapsed": false
   },
   "outputs": [
    {
     "name": "stdout",
     "output_type": "stream",
     "text": [
      "3\n"
     ]
    }
   ],
   "source": [
    "def sample_disc_uniform(a, b):\n",
    "    s = sample_cont_uniform(a, b)\n",
    "    return int(s)\n",
    "\n",
    "sample = sample_disc_uniform(2, 5)\n",
    "print(sample)"
   ]
  },
  {
   "cell_type": "code",
   "execution_count": null,
   "metadata": {
    "collapsed": true
   },
   "outputs": [],
   "source": []
  }
 ],
 "metadata": {
  "anaconda-cloud": {},
  "kernelspec": {
   "display_name": "Python [conda root]",
   "language": "python",
   "name": "conda-root-py"
  },
  "language_info": {
   "codemirror_mode": {
    "name": "ipython",
    "version": 3
   },
   "file_extension": ".py",
   "mimetype": "text/x-python",
   "name": "python",
   "nbconvert_exporter": "python",
   "pygments_lexer": "ipython3",
   "version": "3.5.2"
  }
 },
 "nbformat": 4,
 "nbformat_minor": 1
}
