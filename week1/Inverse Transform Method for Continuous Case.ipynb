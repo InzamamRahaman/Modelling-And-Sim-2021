{
 "cells": [
  {
   "cell_type": "markdown",
   "metadata": {},
   "source": [
    "Let our CDF under consideration be $F$. Recall that $F$ takes some value in the set of reals to a probability value between 0 and 1. Conssequently, $F^{-1}$ would take a probability value to a real value of the underlying phenomenon."
   ]
  },
  {
   "cell_type": "markdown",
   "metadata": {},
   "source": [
    "Consider the CDF of the exponential distribution\n",
    "$$F(x) = 1 - e^{-\\lambda x}$$\n",
    "\n",
    "Let us now derive $F^{-1}$:\n",
    "\n",
    "\n",
    "$$y = 1 - e^{-\\lambda x}$$\n",
    "$$1 - y = e^{-\\lambda x}$$\n",
    "$$ln(1 - y) = -\\lambda x$$\n",
    "$$x = \\frac{ln(1 - y)}{-\\lambda}$$\n",
    "$$F^{-1} = \\frac{ln(1 - y)}{-\\lambda}$$\n",
    "\n",
    "\n",
    "If we feed as input a probability value into $F^{-1}$, then we will generate a real value (in this case, a interarrival time). We can randomly generate a probability value by sampling, as usual, from $Uniform(0, 1)$\n",
    "\n",
    "Hence, to sample from the exponential distribution, we can use the following:"
   ]
  },
  {
   "cell_type": "code",
   "execution_count": 5,
   "metadata": {
    "collapsed": false
   },
   "outputs": [
    {
     "name": "stdout",
     "output_type": "stream",
     "text": [
      "0.210178756718\n"
     ]
    }
   ],
   "source": [
    "import numpy as np\n",
    "\n",
    "def sample_from_exponential(lam):\n",
    "    u = np.random.uniform(0, 1)\n",
    "    numer = np.log(1 - u)\n",
    "    denom = -1 * lam \n",
    "    return numer / denom \n",
    "\n",
    "sample = sample_from_exponential(0.5)\n",
    "print(sample)\n",
    "    \n",
    "    "
   ]
  },
  {
   "cell_type": "code",
   "execution_count": null,
   "metadata": {
    "collapsed": true
   },
   "outputs": [],
   "source": []
  }
 ],
 "metadata": {
  "anaconda-cloud": {},
  "kernelspec": {
   "display_name": "Python [conda root]",
   "language": "python",
   "name": "conda-root-py"
  },
  "language_info": {
   "codemirror_mode": {
    "name": "ipython",
    "version": 3
   },
   "file_extension": ".py",
   "mimetype": "text/x-python",
   "name": "python",
   "nbconvert_exporter": "python",
   "pygments_lexer": "ipython3",
   "version": "3.5.2"
  }
 },
 "nbformat": 4,
 "nbformat_minor": 1
}
