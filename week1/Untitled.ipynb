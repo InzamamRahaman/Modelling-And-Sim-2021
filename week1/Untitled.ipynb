{
 "cells": [
  {
   "cell_type": "code",
   "execution_count": 3,
   "metadata": {},
   "outputs": [],
   "source": [
    "import numpy as np\n"
   ]
  },
  {
   "cell_type": "code",
   "execution_count": 4,
   "metadata": {},
   "outputs": [],
   "source": [
    "import scipy.stats as stats"
   ]
  },
  {
   "cell_type": "code",
   "execution_count": 11,
   "metadata": {},
   "outputs": [],
   "source": [
    "class LCM(object):\n",
    "    def __init__(self, a, c, m, x0):\n",
    "        self.a = a \n",
    "        self.c = c \n",
    "        self.m = m\n",
    "        if x0 < 0 or x0 > m or type(x0) != int:\n",
    "            raise ValueError('x0 must be a positive integer between 0 and m, in your case m is {0}'.format(m))\n",
    "        self.x0 = x0 \n",
    "        self.x_curr = self.x0 \n",
    "        \n",
    "    \n",
    "    def next(self):\n",
    "        current = self.x_curr \n",
    "        self.x_curr = (self.a * self.x_curr + self.c) % self.m \n",
    "        return current "
   ]
  },
  {
   "cell_type": "code",
   "execution_count": 18,
   "metadata": {},
   "outputs": [],
   "source": [
    "generator = LCM(2, 3, 100, 1)"
   ]
  },
  {
   "cell_type": "code",
   "execution_count": 19,
   "metadata": {},
   "outputs": [
    {
     "data": {
      "text/plain": [
       "[0.01,\n",
       " 0.05,\n",
       " 0.13,\n",
       " 0.29,\n",
       " 0.61,\n",
       " 0.25,\n",
       " 0.53,\n",
       " 0.09,\n",
       " 0.21,\n",
       " 0.45,\n",
       " 0.93,\n",
       " 0.89,\n",
       " 0.81,\n",
       " 0.65,\n",
       " 0.33,\n",
       " 0.69,\n",
       " 0.41,\n",
       " 0.85,\n",
       " 0.73,\n",
       " 0.49,\n",
       " 0.01,\n",
       " 0.05,\n",
       " 0.13,\n",
       " 0.29,\n",
       " 0.61,\n",
       " 0.25,\n",
       " 0.53,\n",
       " 0.09,\n",
       " 0.21,\n",
       " 0.45,\n",
       " 0.93,\n",
       " 0.89,\n",
       " 0.81,\n",
       " 0.65,\n",
       " 0.33,\n",
       " 0.69,\n",
       " 0.41,\n",
       " 0.85,\n",
       " 0.73,\n",
       " 0.49,\n",
       " 0.01,\n",
       " 0.05,\n",
       " 0.13,\n",
       " 0.29,\n",
       " 0.61,\n",
       " 0.25,\n",
       " 0.53,\n",
       " 0.09,\n",
       " 0.21,\n",
       " 0.45,\n",
       " 0.93,\n",
       " 0.89,\n",
       " 0.81,\n",
       " 0.65,\n",
       " 0.33,\n",
       " 0.69,\n",
       " 0.41,\n",
       " 0.85,\n",
       " 0.73,\n",
       " 0.49,\n",
       " 0.01,\n",
       " 0.05,\n",
       " 0.13,\n",
       " 0.29,\n",
       " 0.61,\n",
       " 0.25,\n",
       " 0.53,\n",
       " 0.09,\n",
       " 0.21,\n",
       " 0.45,\n",
       " 0.93,\n",
       " 0.89,\n",
       " 0.81,\n",
       " 0.65,\n",
       " 0.33,\n",
       " 0.69,\n",
       " 0.41,\n",
       " 0.85,\n",
       " 0.73,\n",
       " 0.49,\n",
       " 0.01,\n",
       " 0.05,\n",
       " 0.13,\n",
       " 0.29,\n",
       " 0.61,\n",
       " 0.25,\n",
       " 0.53,\n",
       " 0.09,\n",
       " 0.21,\n",
       " 0.45,\n",
       " 0.93,\n",
       " 0.89,\n",
       " 0.81,\n",
       " 0.65,\n",
       " 0.33,\n",
       " 0.69,\n",
       " 0.41,\n",
       " 0.85,\n",
       " 0.73,\n",
       " 0.49]"
      ]
     },
     "execution_count": 19,
     "metadata": {},
     "output_type": "execute_result"
    }
   ],
   "source": [
    "[generator.next()/100 for i in range(100)]"
   ]
  },
  {
   "cell_type": "code",
   "execution_count": 13,
   "metadata": {},
   "outputs": [
    {
     "data": {
      "text/plain": [
       "1"
      ]
     },
     "execution_count": 13,
     "metadata": {},
     "output_type": "execute_result"
    }
   ],
   "source": [
    "generator.next()"
   ]
  },
  {
   "cell_type": "code",
   "execution_count": 16,
   "metadata": {},
   "outputs": [
    {
     "data": {
      "text/plain": [
       "29"
      ]
     },
     "execution_count": 16,
     "metadata": {},
     "output_type": "execute_result"
    }
   ],
   "source": [
    "generator.next()"
   ]
  },
  {
   "cell_type": "code",
   "execution_count": null,
   "metadata": {},
   "outputs": [],
   "source": []
  }
 ],
 "metadata": {
  "kernelspec": {
   "display_name": "Python 3",
   "language": "python",
   "name": "python3"
  },
  "language_info": {
   "codemirror_mode": {
    "name": "ipython",
    "version": 3
   },
   "file_extension": ".py",
   "mimetype": "text/x-python",
   "name": "python",
   "nbconvert_exporter": "python",
   "pygments_lexer": "ipython3",
   "version": "3.8.5"
  }
 },
 "nbformat": 4,
 "nbformat_minor": 4
}
