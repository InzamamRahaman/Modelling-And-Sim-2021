{
 "cells": [
  {
   "cell_type": "code",
   "execution_count": 14,
   "metadata": {},
   "outputs": [
    {
     "name": "stdout",
     "output_type": "stream",
     "text": [
      "Populating the interactive namespace from numpy and matplotlib\n"
     ]
    }
   ],
   "source": [
    "%pylab inline\n",
    "import numpy as np"
   ]
  },
  {
   "cell_type": "markdown",
   "metadata": {},
   "source": [
    "Here we let the random variable $X$ be one of 'tiny', 'small', 'medium', or 'large' with some probability.\n",
    "\n",
    "$$\n",
    "   f(x) = \\sum_i^n{x_i}\n",
    "$$"
   ]
  },
  {
   "cell_type": "code",
   "execution_count": 15,
   "metadata": {},
   "outputs": [],
   "source": [
    "# length_of_bag = {\n",
    "#     'tiny': 1,\n",
    "#     'small': 0.75,\n",
    "#     'medium': 0.5,\n",
    "#     'large': 0.25\n",
    "# }\n",
    "\n",
    "probability_of_dog = {\n",
    "    'tiny': 0.1,\n",
    "    'small': 0.4,\n",
    "    'medium': 0.4,\n",
    "    'large': 0.1\n",
    "}\n",
    "\n",
    "def sample_from_dict(d):\n",
    "    items = []\n",
    "    probs = []\n",
    "    for k, v in d.items():\n",
    "        items.append(k)\n",
    "        probs.append(v)\n",
    "    sample = np.random.choice(items, p=probs)\n",
    "    return sample"
   ]
  },
  {
   "cell_type": "code",
   "execution_count": 16,
   "metadata": {},
   "outputs": [
    {
     "data": {
      "text/plain": [
       "'small'"
      ]
     },
     "execution_count": 16,
     "metadata": {},
     "output_type": "execute_result"
    }
   ],
   "source": [
    "sample_from_dict(probability_of_dog)"
   ]
  },
  {
   "cell_type": "code",
   "execution_count": 17,
   "metadata": {},
   "outputs": [],
   "source": [
    "def sample_num_dogs():\n",
    "    mean = 3\n",
    "    std = 2\n",
    "    sample = np.random.normal(mean, std)\n",
    "    while sample < 1:\n",
    "        sample = np.random.normal(mean, std)\n",
    "    sample = int(sample)\n",
    "    return sample"
   ]
  },
  {
   "cell_type": "code",
   "execution_count": 18,
   "metadata": {},
   "outputs": [
    {
     "data": {
      "text/plain": [
       "1"
      ]
     },
     "execution_count": 18,
     "metadata": {},
     "output_type": "execute_result"
    }
   ],
   "source": [
    "sample_num_dogs()"
   ]
  },
  {
   "cell_type": "code",
   "execution_count": 19,
   "metadata": {},
   "outputs": [],
   "source": [
    "def num_to_buy(counts):\n",
    "    count = 0\n",
    "    for i, c in enumerate(counts):\n",
    "        if c == 0:\n",
    "            count += 1\n",
    "            counts[i] = 1\n",
    "    return count\n",
    "\n",
    "def decrease(types, counts):\n",
    "    for i, c in enumerate(counts):\n",
    "        if types[i] == 'tiny':\n",
    "            counts[i] -= 0.25\n",
    "        elif types[i] == 'medium' or types[i] == 'small':\n",
    "            counts[i] -= 0.5\n",
    "        else:\n",
    "            counts[i] -= 1.0\n",
    "\n",
    "def simulate_customer():\n",
    "    num_dogs = sample_num_dogs()\n",
    "    num_weeks = 52\n",
    "    types = []\n",
    "    counts = []\n",
    "    for n in range(num_dogs):\n",
    "        types.append(sample_from_dict(probability_of_dog))\n",
    "        counts.append(0)\n",
    "    \n",
    "    count = 0\n",
    "    for week in range(num_weeks):\n",
    "        count += num_to_buy(counts)\n",
    "        decrease(types, counts)\n",
    "        \n",
    "    return count\n",
    "        \n",
    "    \n",
    "    \n",
    "    \n",
    "    \n",
    "    "
   ]
  },
  {
   "cell_type": "code",
   "execution_count": 37,
   "metadata": {},
   "outputs": [],
   "source": [
    "def check_condition(curr, target):\n",
    "    for k in curr.keys():\n",
    "        if curr[k] < target[k]:\n",
    "            return True\n",
    "    return False\n",
    "\n",
    "def num_puppy(npurchased):\n",
    "    letters = ['P', 'U', 'Y']\n",
    "    probs = [0.1, 0.05, 0.85]\n",
    "    num_buys = 0\n",
    "    num_wins = 0\n",
    "    winning_condition = {\n",
    "        'P': 3,\n",
    "        'U': 1,\n",
    "        'Y': 1\n",
    "    }\n",
    "    current_count = {\n",
    "        'P': 0,\n",
    "        'U': 0,\n",
    "        'Y': 0\n",
    "    }\n",
    "    \n",
    "    for pid in range(npurchased):\n",
    "        if not check_condition(current_count, winning_condition):\n",
    "            current_count['P'] = 0\n",
    "            current_count['U'] = 0\n",
    "            current_count['Y'] = 0\n",
    "            num_wins += 1\n",
    "        letter = np.random.choice(letters, p=probs)\n",
    "        current_count[letter] += 1\n",
    "        num_buys += 1\n",
    "        \n",
    "        \n",
    "    return num_wins"
   ]
  },
  {
   "cell_type": "code",
   "execution_count": 38,
   "metadata": {},
   "outputs": [
    {
     "data": {
      "text/plain": [
       "5"
      ]
     },
     "execution_count": 38,
     "metadata": {},
     "output_type": "execute_result"
    }
   ],
   "source": [
    "num_puppy(simulate_customer())"
   ]
  },
  {
   "cell_type": "code",
   "execution_count": 39,
   "metadata": {},
   "outputs": [],
   "source": [
    "def runs(nruns):\n",
    "    arr = []\n",
    "    for i in range(nruns):\n",
    "        number_of_bags_purchased = simulate_customer()\n",
    "        number_of_times_won = num_puppy(number_of_bags_purchased)\n",
    "        arr.append(number_of_times_won)\n",
    "    return np.array(arr)"
   ]
  },
  {
   "cell_type": "code",
   "execution_count": 40,
   "metadata": {},
   "outputs": [],
   "source": [
    "results = runs(10000)"
   ]
  },
  {
   "cell_type": "code",
   "execution_count": 41,
   "metadata": {},
   "outputs": [
    {
     "data": {
      "text/plain": [
       "(array([1603., 2798., 2411., 1646.,  858.,  422.,  169.,   64.,   21.,\n",
       "           8.]),\n",
       " array([ 0.,  1.,  2.,  3.,  4.,  5.,  6.,  7.,  8.,  9., 10.]),\n",
       " <a list of 10 Patch objects>)"
      ]
     },
     "execution_count": 41,
     "metadata": {},
     "output_type": "execute_result"
    },
    {
     "data": {
      "image/png": "[encoded data removed]",
      "text/plain": [
       "<Figure size 432x288 with 1 Axes>"
      ]
     },
     "metadata": {
      "needs_background": "light"
     },
     "output_type": "display_data"
    }
   ],
   "source": [
    "plt.hist(results)"
   ]
  },
  {
   "cell_type": "code",
   "execution_count": 42,
   "metadata": {},
   "outputs": [
    {
     "data": {
      "text/plain": [
       "1.9804"
      ]
     },
     "execution_count": 42,
     "metadata": {},
     "output_type": "execute_result"
    }
   ],
   "source": [
    "np.mean(results)"
   ]
  },
  {
   "cell_type": "code",
   "execution_count": 31,
   "metadata": {},
   "outputs": [
    {
     "data": {
      "text/plain": [
       "0"
      ]
     },
     "execution_count": 31,
     "metadata": {},
     "output_type": "execute_result"
    }
   ],
   "source": [
    "np.min(results)"
   ]
  },
  {
   "cell_type": "code",
   "execution_count": 32,
   "metadata": {},
   "outputs": [
    {
     "data": {
      "text/plain": [
       "7"
      ]
     },
     "execution_count": 32,
     "metadata": {},
     "output_type": "execute_result"
    }
   ],
   "source": [
    "np.max(results)"
   ]
  },
  {
   "cell_type": "code",
   "execution_count": 33,
   "metadata": {},
   "outputs": [
    {
     "data": {
      "text/plain": [
       "1.0236679149020935"
      ]
     },
     "execution_count": 33,
     "metadata": {},
     "output_type": "execute_result"
    }
   ],
   "source": [
    "np.std(results)"
   ]
  },
  {
   "cell_type": "code",
   "execution_count": 34,
   "metadata": {},
   "outputs": [
    {
     "data": {
      "text/plain": [
       "1.0"
      ]
     },
     "execution_count": 34,
     "metadata": {},
     "output_type": "execute_result"
    }
   ],
   "source": [
    "np.median(results)"
   ]
  },
  {
   "cell_type": "code",
   "execution_count": 35,
   "metadata": {},
   "outputs": [],
   "source": [
    "import scipy.stats as stats"
   ]
  },
  {
   "cell_type": "code",
   "execution_count": 36,
   "metadata": {},
   "outputs": [
    {
     "data": {
      "text/plain": [
       "ModeResult(mode=array([1]), count=array([3724]))"
      ]
     },
     "execution_count": 36,
     "metadata": {},
     "output_type": "execute_result"
    }
   ],
   "source": [
    "stats.mode(results)"
   ]
  },
  {
   "cell_type": "code",
   "execution_count": 43,
   "metadata": {},
   "outputs": [
    {
     "data": {
      "text/plain": [
       "<matplotlib.figure.Figure at 0x1a1cae7320>"
      ]
     },
     "metadata": {},
     "output_type": "display_data"
    }
   ],
   "source": [
    "plt.savefig('Plot of Scam.png')"
   ]
  },
  {
   "cell_type": "code",
   "execution_count": null,
   "metadata": {},
   "outputs": [],
   "source": []
  }
 ],
 "metadata": {
  "kernelspec": {
   "display_name": "Python 3",
   "language": "python",
   "name": "python3"
  },
  "language_info": {
   "codemirror_mode": {
    "name": "ipython",
    "version": 3
   },
   "file_extension": ".py",
   "mimetype": "text/x-python",
   "name": "python",
   "nbconvert_exporter": "python",
   "pygments_lexer": "ipython3",
   "version": "3.6.10"
  }
 },
 "nbformat": 4,
 "nbformat_minor": 4
}
