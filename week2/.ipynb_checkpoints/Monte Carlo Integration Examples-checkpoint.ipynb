{
 "cells": [
  {
   "cell_type": "code",
   "execution_count": 1,
   "metadata": {},
   "outputs": [
    {
     "name": "stdout",
     "output_type": "stream",
     "text": [
      "Populating the interactive namespace from numpy and matplotlib\n"
     ]
    }
   ],
   "source": [
    "%pylab inline"
   ]
  },
  {
   "cell_type": "code",
   "execution_count": 2,
   "metadata": {
    "collapsed": true
   },
   "outputs": [],
   "source": [
    "import numpy as np"
   ]
  },
  {
   "cell_type": "code",
   "execution_count": 40,
   "metadata": {
    "collapsed": true
   },
   "outputs": [],
   "source": [
    "frac = {\n",
    "    0.8: 1.28,\n",
    "    0.90: 1.645, \n",
    "    0.95: 1.96,\n",
    "    0.98: 2.33,\n",
    "    0.99: 2.58\n",
    "}\n",
    "\n",
    "def integrate1d(lo, hi, f, n=1000, conf=0.95):\n",
    "    \n",
    "#     x = np.random.uniform(lo, hi, size=n)\n",
    "    x = []\n",
    "    for i in range(n):\n",
    "        np.random.seed(i + 200)\n",
    "        x.append(np.random.uniform(lo, hi))\n",
    "    y = f(x)\n",
    "    return (hi - lo) * np.mean(y), frac[conf] * (np.std(y)/np.sqrt(n))\n",
    "    "
   ]
  },
  {
   "cell_type": "code",
   "execution_count": 43,
   "metadata": {},
   "outputs": [
    {
     "data": {
      "text/plain": [
       "(1.7204321270021734, 0.0096850047886287201)"
      ]
     },
     "execution_count": 43,
     "metadata": {},
     "output_type": "execute_result"
    }
   ],
   "source": [
    "integrate1d(0, 1, lambda x: np.exp(x), 10000)"
   ]
  },
  {
   "cell_type": "code",
   "execution_count": 22,
   "metadata": {
    "collapsed": true
   },
   "outputs": [],
   "source": [
    "def integrate2d(lo1, hi1, lo2, hi2, f, n=1000, conf=0.95):\n",
    "    x = np.random.uniform(lo1, hi1, size=n)\n",
    "    y = np.random.uniform(lo2, hi2, size=n)\n",
    "    fx = []\n",
    "    for i in range(0, n):\n",
    "        fx.append(f(x, y))\n",
    "    fx = np.array(fx)\n",
    "    estimate = np.mean(fx) * (hi1 - lo1) * (hi2 - lo2)\n",
    "    error = frac[conf] * np.std(y)/np.sqrt(n)\n",
    "    return (estimate, error)\n",
    "    "
   ]
  },
  {
   "cell_type": "code",
   "execution_count": 23,
   "metadata": {},
   "outputs": [
    {
     "data": {
      "text/plain": [
       "(1.4092998488921489, 0.036540364372987209)"
      ]
     },
     "execution_count": 23,
     "metadata": {},
     "output_type": "execute_result"
    }
   ],
   "source": [
    "integrate2d(-1, 1, -1, 1, lambda x, y: x ** 2 + 2 * y)"
   ]
  },
  {
   "cell_type": "code",
   "execution_count": 24,
   "metadata": {
    "collapsed": true
   },
   "outputs": [],
   "source": [
    "def generate_point(los, his):\n",
    "    n = len(los)\n",
    "    point = []\n",
    "    for i in range(0, n):\n",
    "        lo = los[i]\n",
    "        hi = his[i]\n",
    "        p = np.random.uniform(lo, hi)\n",
    "        point.append(p)\n",
    "    return point"
   ]
  },
  {
   "cell_type": "code",
   "execution_count": 44,
   "metadata": {},
   "outputs": [],
   "source": [
    "def calculate_funny_integral(n=1000, conf=0.95):\n",
    "    points = []\n",
    "    i = 0\n",
    "    while i < n:\n",
    "        x = np.random.uniform(0.25, 0.75)\n",
    "        y = np.random.uniform(0.25, 0.75)\n",
    "        test = (x - 0.5) ** 2 + (y - 0.5) ** 2 <= 0.25\n",
    "        if test:\n",
    "            points.append((x, y))\n",
    "            i += 1\n",
    "    fxy = []\n",
    "    for x, y in points:\n",
    "        fxy.append(np.sin(np.sqrt(np.log(x + y + 1))))\n",
    "    fxy = np.array(fxy)\n",
    "    estimate = np.mean(fxy)\n",
    "    volume = np.pi/4 * estimate\n",
    "    error = frac[conf] * np.std(fxy)/np.sqrt(n)\n",
    "    return volume, error"
   ]
  },
  {
   "cell_type": "code",
   "execution_count": 46,
   "metadata": {},
   "outputs": [
    {
     "data": {
      "text/plain": [
       "(0.57683400302100263, 0.00038162677259051764)"
      ]
     },
     "execution_count": 46,
     "metadata": {},
     "output_type": "execute_result"
    }
   ],
   "source": [
    "calculate_funny_integral(n=50000)"
   ]
  },
  {
   "cell_type": "code",
   "execution_count": null,
   "metadata": {
    "collapsed": true
   },
   "outputs": [],
   "source": []
  }
 ],
 "metadata": {
  "kernelspec": {
   "display_name": "Python 3",
   "language": "python",
   "name": "python3"
  },
  "language_info": {
   "codemirror_mode": {
    "name": "ipython",
    "version": 3
   },
   "file_extension": ".py",
   "mimetype": "text/x-python",
   "name": "python",
   "nbconvert_exporter": "python",
   "pygments_lexer": "ipython3",
   "version": "3.6.3"
  }
 },
 "nbformat": 4,
 "nbformat_minor": 2
}
