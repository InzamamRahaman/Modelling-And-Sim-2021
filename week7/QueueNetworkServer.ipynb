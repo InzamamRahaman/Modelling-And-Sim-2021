{
 "cells": [
  {
   "cell_type": "code",
   "execution_count": 3,
   "metadata": {},
   "outputs": [
    {
     "name": "stdout",
     "output_type": "stream",
     "text": [
      "Populating the interactive namespace from numpy and matplotlib\n"
     ]
    }
   ],
   "source": [
    "%pylab inline\n",
    "import numpy as np\n",
    "import pandas as pd\n",
    "from enum import Enum\n",
    "import heapq"
   ]
  },
  {
   "cell_type": "markdown",
   "metadata": {},
   "source": [
    "The flow in the passport office comprises three nodes:\n",
    "1. Intitial document validation by clerk\n",
    "2. Document verification by clerk\n",
    "3. Payment and photo processing"
   ]
  },
  {
   "cell_type": "code",
   "execution_count": 4,
   "metadata": {},
   "outputs": [],
   "source": [
    "NUM_NODES = 3"
   ]
  },
  {
   "cell_type": "code",
   "execution_count": 101,
   "metadata": {},
   "outputs": [],
   "source": [
    "class PriorityQueue(object):\n",
    "    def __init__(self, keyfun=None, reverse=False):\n",
    "        mult = 1\n",
    "        if keyfun is None:\n",
    "            keyfun = lambda x: x[0]\n",
    "        if reverse:\n",
    "            mult = -1\n",
    "        self.keyfun = lambda x: mult * keyfun(x)\n",
    "        self.contents = []\n",
    "        \n",
    "    def enqueue(self, item):\n",
    "        item = (self.keyfun(item), item)\n",
    "        heapq.heappush(self.contents, item)\n",
    "        \n",
    "    def dequeue(self):\n",
    "        if self.contents:\n",
    "            item = heapq.heappop(self.contents)\n",
    "            return item[1]\n",
    "        return None\n",
    "    \n",
    "    def is_empty(self):\n",
    "        return not self.contents\n",
    "    \n",
    "    def __len__(self):\n",
    "        return len(self.contents)\n",
    "    \n",
    "    def __bool__(self):\n",
    "        return bool(self.contents)\n",
    "    \n",
    "    def __repr__(self):\n",
    "        return repr(self.contents)\n",
    "    \n",
    "    def __str__(self):\n",
    "        return str(self.contents)\n",
    "        "
   ]
  },
  {
   "cell_type": "code",
   "execution_count": 114,
   "metadata": {},
   "outputs": [],
   "source": [
    "class Customer(object):\n",
    "    def __init__(self, idx, arrival_time):\n",
    "        self.idx = idx\n",
    "        self.arrival_times = [None] * NUM_NODES\n",
    "        self.arrival_times[0] = arrival_time\n",
    "        self.service_start_times = [None] * NUM_NODES\n",
    "        self.service_end_times = [None] * NUM_NODES\n",
    "        self.curr_node = 0\n",
    "    \n",
    "    def arrive(self, time, node):\n",
    "        self.curr_node = node\n",
    "        self.arrival_times[node] = time\n",
    "    \n",
    "    def service_start(self, time, node):\n",
    "        self.service_start_times[node] = time\n",
    "    \n",
    "    def service_end(self, time, node):\n",
    "        self.service_end_times[node] = time\n",
    "        \n",
    "    def get_wait_time(self, node):\n",
    "        if self.service_start_times[node] is None:\n",
    "            raise ValueError(\"Cannot call wait time yet\")\n",
    "        return self.service_start_times[node] - self.arrival_times[node]\n",
    "    \n",
    "    def get_service_length(self, node):\n",
    "        if self.service_end_times[node] is None:\n",
    "            raise ValueError(\"Cannot call service time yet\")\n",
    "        return self.service_end_times[node] - self.service_start_times[node]\n",
    "    \n",
    "    def get_time_at_node(self, node):\n",
    "        if self.service_end_times[node] is None:\n",
    "            raise ValueError(\"Cannot call total time yet\")\n",
    "        return self.service_end_times[node] - self.arrival_times[node]\n",
    "    \n",
    "    def get_time_in_system(self):\n",
    "        return self.service_end_times[-1] - self.arrival_times[0]"
   ]
  },
  {
   "cell_type": "code",
   "execution_count": 115,
   "metadata": {},
   "outputs": [],
   "source": [
    "class Server(object):\n",
    "    def __init__(self):\n",
    "        self.is_free = True\n",
    "        self.utilization_time = 0\n",
    "        self.temp_time = 0\n",
    "        self.customer = None\n",
    "    \n",
    "    def start_serving(self, time, customer):\n",
    "        self.is_free = False\n",
    "        self.temp_time = time\n",
    "        self.customer = customer\n",
    "    \n",
    "    def finish_serving(self, time):\n",
    "        self.is_free = True \n",
    "        self.utilization_time += (time - self.temp_time)\n",
    "        self.temp_time = 0\n",
    "        customer_to_return = self.customer\n",
    "        self.customer = None\n",
    "        return customer_to_return\n",
    "    \n",
    "    def get_utilization(self, total_time):\n",
    "        return self.utilization_time / total_time\n",
    "    \n",
    "    def __lt__(self, other):\n",
    "        return True"
   ]
  },
  {
   "cell_type": "code",
   "execution_count": 116,
   "metadata": {},
   "outputs": [],
   "source": [
    "class EventType(Enum):\n",
    "    \n",
    "    def __lt__(self, other):\n",
    "        return self.value < other.value\n",
    "    ARRIVAL = 1\n",
    "    SERVICE_START = 2\n",
    "    SERVICE_END = 3\n",
    "    \n",
    "def create_arrival(time, customer=None, node=0):\n",
    "    return (time, EventType.ARRIVAL, customer, node)\n",
    "\n",
    "def create_service_start(time, node):\n",
    "    return (time, EventType.SERVICE_START, node)\n",
    "\n",
    "def create_service_end(time, server=None, node=0):\n",
    "    return (time, EventType.SERVICE_END, server, node)"
   ]
  },
  {
   "cell_type": "code",
   "execution_count": 117,
   "metadata": {},
   "outputs": [],
   "source": [
    "class FutureEventList(object):\n",
    "    def __init__(self):\n",
    "        self.events = PriorityQueue()\n",
    "    \n",
    "    def enqueue(self, event):\n",
    "        self.events.enqueue(event)\n",
    "    \n",
    "    def dequeue(self):\n",
    "        return self.events.dequeue()"
   ]
  },
  {
   "cell_type": "code",
   "execution_count": 118,
   "metadata": {},
   "outputs": [
    {
     "name": "stdout",
     "output_type": "stream",
     "text": [
      "['#', '#', '@', '#', '#', '#']\n"
     ]
    }
   ],
   "source": [
    "x = ['#', '#', '#', '#', '#']\n",
    "x.insert(len(x) - 2, '@')\n",
    "print(list(reversed(x)))"
   ]
  },
  {
   "cell_type": "code",
   "execution_count": 144,
   "metadata": {},
   "outputs": [],
   "source": [
    "class CustomerQueue(object):\n",
    "    def __init__(self, node=0):\n",
    "        self.customers = []\n",
    "        self.last_update = 0\n",
    "        self.lengths = [0]\n",
    "        self.time_held = []\n",
    "        self.node = node\n",
    "        self.last_idx = -1\n",
    "    \n",
    "    def add_customer(self, arrival_time, customer=None):\n",
    "        if customer is None:\n",
    "            self.last_idx += 1\n",
    "            customer = Customer(self.last_idx, arrival_time)\n",
    "        customer.arrive(arrival_time, self.node)\n",
    "        self.customers.append(customer)\n",
    "        new_length = self.lengths[-1] + 1\n",
    "        self.lengths.append(new_length)\n",
    "        self.time_held.append(arrival_time - self.last_update)\n",
    "        self.last_update = arrival_time\n",
    "        \n",
    "    def is_empty(self):\n",
    "        return not self.customers\n",
    "    \n",
    "    def __len__(self):\n",
    "        return len(self.customers)\n",
    "    \n",
    "    def remove_customer(self, removal_time):\n",
    "        customer = self.customers.pop(0)\n",
    "        new_length = self.lengths[-1] - 1\n",
    "        self.lengths.append(new_length)\n",
    "        self.time_held.append(removal_time - self.last_update)\n",
    "        self.last_update = removal_time\n",
    "        return customer\n",
    "    \n",
    "    def compute_line_length_distribution(self, total_time):\n",
    "        arr = []\n",
    "        for count, time in zip(self.lengths, self.time_held):\n",
    "            arr.append([count, time])\n",
    "        df = pd.DataFrame(arr, columns=['count', 'time'])\n",
    "        df = df.groupby('count').agg({'time': 'sum'}).reset_index()\n",
    "        df['time'] /= total_time\n",
    "        df = df.rename(columns={'time': 'p(count)'})\n",
    "        return df"
   ]
  },
  {
   "cell_type": "code",
   "execution_count": 145,
   "metadata": {},
   "outputs": [],
   "source": [
    "class ServerSystem(object):\n",
    "    def __init__(self, num_servers=1):\n",
    "        self.num_serves = num_servers\n",
    "        self.servers = []\n",
    "        for i in range(num_servers):\n",
    "            self.servers.append(Server())\n",
    "    \n",
    "    def are_any_free(self):\n",
    "        return any([server.is_free for server in self.servers])\n",
    "    \n",
    "    def get_free_server(self):\n",
    "        for curr_server in self.servers:\n",
    "            if curr_server.is_free:\n",
    "                return curr_server\n",
    "        return None\n",
    "    \n",
    "    def get_average_utilization(self, total_time):\n",
    "        utilizations = [s.get_utilization(total_time) for s in self.servers]\n",
    "        return np.mean(utilizations)"
   ]
  },
  {
   "cell_type": "code",
   "execution_count": 146,
   "metadata": {},
   "outputs": [],
   "source": [
    "def get_interarrival_time():\n",
    "    return np.random.uniform(0.5, 6)\n",
    "\n",
    "def get_service_time(node):\n",
    "    if node == 0:\n",
    "        choices = np.array([1, 2, 3, 4, 5, 6])\n",
    "        probs = np.array([0.05, 0.05, 0.05, 0.10, 0.40, 0.35])\n",
    "        return np.random.choice(a=choices, p=probs)\n",
    "    if node == 1:\n",
    "        choices = np.array([1, 2, 3, 4, 5, 6])\n",
    "        probs = np.array([0.10, 0.00, 0.15, 0.0, 0.40, 0.35])\n",
    "        return np.random.choice(a=choices, p=probs)\n",
    "        \n",
    "    return np.random.triangular(3, 5, 8)"
   ]
  },
  {
   "cell_type": "code",
   "execution_count": 150,
   "metadata": {},
   "outputs": [],
   "source": [
    "def simulate_queue_network(customer_limit, num_servers=[1, 4, 3]):\n",
    "    \n",
    "    customer_queues = [CustomerQueue(i) for i in range(NUM_NODES)]\n",
    "    server_nodes = [ServerSystem(num_servers[i]) for i in range(NUM_NODES)]\n",
    "    \n",
    "    \n",
    "    fel = FutureEventList()\n",
    "    num_customers_to_arrive = 0\n",
    "    finished_customers = []\n",
    "    \n",
    "    # our first arrival\n",
    "    interarrival_time = get_interarrival_time()\n",
    "    first_arrival_time = 0 + interarrival_time\n",
    "    first_arrival = create_arrival(first_arrival_time, None, 0)\n",
    "    fel.enqueue(first_arrival)\n",
    "    last_time = 0\n",
    "\n",
    "    \n",
    "    while num_customers_to_arrive <= customer_limit:\n",
    "        \n",
    "        # get properties of current event\n",
    "        current_event = fel.dequeue()\n",
    "        current_time = current_event[0]\n",
    "        current_event_type =  current_event[1]\n",
    "        last_time = current_time\n",
    "        \n",
    "        # handle event with appropriate logic\n",
    "        if current_event_type == EventType.ARRIVAL:\n",
    "            curr_customer = current_event[2]\n",
    "            curr_event_node = current_event[3]\n",
    "            customer_queues[curr_event_node].add_customer(current_time, curr_customer)\n",
    "#             if curr_event_node == NUM_NODES - 1:\n",
    "#                 print('Adding ', curr_customer.idx)\n",
    "#                 print('Adding ', curr_customer.arrival_times)\n",
    "            num_customers_to_arrive += 1\n",
    "            if server_nodes[curr_event_node].are_any_free():\n",
    "                server = server_nodes[curr_event_node].get_free_server()\n",
    "                customer = customer_queues[curr_event_node].remove_customer(current_time)\n",
    "                customer.service_start(current_time, curr_event_node)\n",
    "                server.start_serving(current_time, customer)\n",
    "\n",
    "                service_time = get_service_time(curr_event_node)\n",
    "                completion_of_service_time = current_time + service_time\n",
    "                new_event = create_service_end(completion_of_service_time, server, curr_event_node)\n",
    "                fel.enqueue(new_event)\n",
    "                \n",
    "            if curr_event_node == 0:\n",
    "                interarrival_time = get_interarrival_time()\n",
    "                next_arrival_time = interarrival_time + current_time\n",
    "                new_event = create_arrival(next_arrival_time, None, 0)\n",
    "                fel.enqueue(new_event)\n",
    "                \n",
    "        elif current_event_type == EventType.SERVICE_END:\n",
    "            server = current_event[2]\n",
    "            curr_event_node = current_event[3]\n",
    "            customer = server.finish_serving(current_time)\n",
    "            customer.service_end(current_time, curr_event_node)\n",
    "            #print('Processing service of customer ', customer.idx, ' at node', curr_event_node )\n",
    "            #print(customer.service_end_times)\n",
    "            if curr_event_node == NUM_NODES - 1:   \n",
    "                finished_customers.append(customer)\n",
    "            else:\n",
    "                next_event_node =  curr_event_node + 1\n",
    "                new_event = create_arrival(current_time, customer, next_event_node)\n",
    "                fel.enqueue(new_event)\n",
    "                \n",
    "            if not customer_queues[curr_event_node].is_empty():\n",
    "                customer = customer_queues[curr_event_node].remove_customer(current_time)\n",
    "                customer.service_start(current_time, curr_event_node)\n",
    "                server.start_serving(current_time, customer)\n",
    "                service_time = get_service_time(curr_event_node)\n",
    "                completion_of_service_time = current_time + service_time\n",
    "                new_event = create_service_end(completion_of_service_time, server, curr_event_node)\n",
    "                fel.enqueue(new_event)\n",
    "        \n",
    "    return customer_queues, server_nodes, finished_customers, last_time"
   ]
  },
  {
   "cell_type": "code",
   "execution_count": 174,
   "metadata": {},
   "outputs": [],
   "source": [
    "def get_best_allocation(total_number, num_customers=1000):\n",
    "    best_allocation = []\n",
    "    lowest_time = 10000000000\n",
    "    for i in range(1, total_number + 1 - 2):\n",
    "        left_over = total_number - i\n",
    "        for j in range(1, left_over + 1 - 1):\n",
    "            k = left_over - j\n",
    "            allocation = [i, j, k]\n",
    "            print('Processing ', allocation)\n",
    "            customer_queues, server_nodes, finished_customers, last_time = simulate_queue_network(num_customers, allocation)\n",
    "            times_in_system = [cust.get_time_in_system() for cust in finished_customers]\n",
    "            average_time = np.mean(times_in_system)\n",
    "            if average_time < lowest_time:\n",
    "                lowest_time = average_time\n",
    "                best_allocation = allocation\n",
    "    return (best_allocation, lowest_time)"
   ]
  },
  {
   "cell_type": "code",
   "execution_count": 175,
   "metadata": {},
   "outputs": [
    {
     "name": "stdout",
     "output_type": "stream",
     "text": [
      "Processing  [1, 1, 6]\n",
      "Processing  [1, 2, 5]\n",
      "Processing  [1, 3, 4]\n",
      "Processing  [1, 4, 3]\n",
      "Processing  [1, 5, 2]\n",
      "Processing  [1, 6, 1]\n",
      "Processing  [2, 1, 5]\n",
      "Processing  [2, 2, 4]\n",
      "Processing  [2, 3, 3]\n",
      "Processing  [2, 4, 2]\n",
      "Processing  [2, 5, 1]\n",
      "Processing  [3, 1, 4]\n",
      "Processing  [3, 2, 3]\n",
      "Processing  [3, 3, 2]\n",
      "Processing  [3, 4, 1]\n",
      "Processing  [4, 1, 3]\n",
      "Processing  [4, 2, 2]\n",
      "Processing  [4, 3, 1]\n",
      "Processing  [5, 1, 2]\n",
      "Processing  [5, 2, 1]\n",
      "Processing  [6, 1, 1]\n"
     ]
    }
   ],
   "source": [
    "best_allocation, lowest_time = get_best_allocation(8, 10000)"
   ]
  },
  {
   "cell_type": "code",
   "execution_count": 176,
   "metadata": {},
   "outputs": [
    {
     "data": {
      "text/plain": [
       "[2, 3, 3]"
      ]
     },
     "execution_count": 176,
     "metadata": {},
     "output_type": "execute_result"
    }
   ],
   "source": [
    "best_allocation"
   ]
  },
  {
   "cell_type": "code",
   "execution_count": 177,
   "metadata": {},
   "outputs": [
    {
     "data": {
      "text/plain": [
       "15.615692693934777"
      ]
     },
     "execution_count": 177,
     "metadata": {},
     "output_type": "execute_result"
    }
   ],
   "source": [
    "lowest_time"
   ]
  }
 ],
 "metadata": {
  "kernelspec": {
   "display_name": "Python 3",
   "language": "python",
   "name": "python3"
  },
  "language_info": {
   "codemirror_mode": {
    "name": "ipython",
    "version": 3
   },
   "file_extension": ".py",
   "mimetype": "text/x-python",
   "name": "python",
   "nbconvert_exporter": "python",
   "pygments_lexer": "ipython3",
   "version": "3.6.10"
  }
 },
 "nbformat": 4,
 "nbformat_minor": 4
}
