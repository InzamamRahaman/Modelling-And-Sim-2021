{
 "cells": [
  {
   "cell_type": "markdown",
   "metadata": {},
   "source": [
    "We have three events that can drive our simulation state forward:\n",
    "1. A customer arrives\n",
    "2. A customer starts to be served\n",
    "3. A customer's service ends, and they leave\n",
    "\n",
    "State:\n",
    "1. Maintain a queue of customer objects. Customer object will store data such as arrival time, when service started, and when service ended\n",
    "2. If the vender is free\n",
    "3. Total time spent by the vendor in serving customers"
   ]
  },
  {
   "cell_type": "code",
   "execution_count": 5,
   "metadata": {},
   "outputs": [
    {
     "name": "stdout",
     "output_type": "stream",
     "text": [
      "Populating the interactive namespace from numpy and matplotlib\n"
     ]
    }
   ],
   "source": [
    "%pylab inline\n",
    "import numpy as np\n",
    "from enum import Enum\n",
    "import heapq"
   ]
  },
  {
   "cell_type": "code",
   "execution_count": 2,
   "metadata": {},
   "outputs": [],
   "source": [
    "class EventType(Enum):\n",
    "    ARRIVAL = 1\n",
    "    SERVICE_START = 2\n",
    "    SERVICE_END = 3\n",
    "    \n",
    "def create_arrival(time):\n",
    "    return (time, EventType.ARRIVAL)\n",
    "\n",
    "def create_service_start(time):\n",
    "    return (time, EventType.SERVICE_START)\n",
    "\n",
    "def create_service_end(time):\n",
    "    return (time, EventType.SERVICE_END)"
   ]
  },
  {
   "cell_type": "code",
   "execution_count": 3,
   "metadata": {},
   "outputs": [],
   "source": [
    "class Customer(object):\n",
    "    def __init__(self, arrival_time):\n",
    "        self.arrival_time = arrival_time\n",
    "        self.service_start_time = None \n",
    "        self.service_end_time = None \n",
    "    \n",
    "    def service_start(self, time):\n",
    "        self.service_start_time = time\n",
    "    \n",
    "    def service_end(self, time):\n",
    "        self.service_end_time = time\n",
    "        \n",
    "    def wait_time(self):\n",
    "        if self.service_start_time is None:\n",
    "            raise ValueError(\"Cannot call wait time yet\")\n",
    "        return self.service_start_time - self.arrival_time\n",
    "    \n",
    "    def get_service_length(self):\n",
    "        if self.service_end_time is None:\n",
    "            raise ValueError(\"Cannot call wait time yet\")\n",
    "        return self.service_end_time - self.service_start_time\n",
    "        "
   ]
  },
  {
   "cell_type": "code",
   "execution_count": 9,
   "metadata": {},
   "outputs": [],
   "source": [
    "class Vendor(object):\n",
    "    def __init__(self):\n",
    "        self.is_free = True\n",
    "        self.utilization_time = 0\n",
    "        self.temp_time = 0\n",
    "        self.customer = None\n",
    "    \n",
    "    def start_serving(self, time, customer):\n",
    "        self.is_free = False\n",
    "        self.temp_time = time\n",
    "        self.customer = customer\n",
    "    \n",
    "    def finish_serving(self, time):\n",
    "        self.is_free = True \n",
    "        self.utilization_time += (time - self.temp_time)\n",
    "        self.temp_time = 0\n",
    "        customer_to_return = self.customer\n",
    "        self.customer = None\n",
    "        return customer_to_return\n",
    "        \n",
    "    \n",
    "    def get_utilization(self, total_time):\n",
    "        return self.utilization_time / total_time"
   ]
  },
  {
   "cell_type": "code",
   "execution_count": 6,
   "metadata": {},
   "outputs": [],
   "source": [
    "class FutureEventList(object):\n",
    "    def __init__(self):\n",
    "        self.events = []\n",
    "    \n",
    "    def enqueue(self, event):\n",
    "        heapq.heappush(self.events, event)\n",
    "    \n",
    "    def dequeue(self):\n",
    "        if self.events:\n",
    "            return heapq.heappop(self.events)\n",
    "        return None"
   ]
  },
  {
   "cell_type": "code",
   "execution_count": 64,
   "metadata": {},
   "outputs": [],
   "source": [
    "class CustomerQueue(object):\n",
    "    def __init__(self):\n",
    "        self.customers = []\n",
    "        self.last_update = 0\n",
    "        self.lengths = [0]\n",
    "        self.time_held = []\n",
    "    \n",
    "    def add_customer(self, arrival_time):\n",
    "        customer = Customer(arrival_time)\n",
    "        self.customers.append(customer)\n",
    "        new_length = self.lengths[-1] + 1\n",
    "        self.lengths.append(new_length)\n",
    "        self.time_held.append(arrival_time - self.last_update)\n",
    "        self.last_update = arrival_time\n",
    "        \n",
    "    def is_empty(self):\n",
    "        return not self.customers\n",
    "        \n",
    "    def remove_customer(self, removal_time):\n",
    "        customer = self.customers.pop(0)\n",
    "        new_length = self.lengths[-1] - 1\n",
    "        self.lengths.append(new_length)\n",
    "        self.time_held.append(removal_time - self.last_update)\n",
    "        self.last_update = removal_time\n",
    "        return customer"
   ]
  },
  {
   "cell_type": "code",
   "execution_count": 65,
   "metadata": {},
   "outputs": [],
   "source": [
    "def get_interarrival_time():\n",
    "    return np.random.uniform(1, 5)\n",
    "\n",
    "def get_service_time():\n",
    "    choices = np.array([1, 2, 3, 4, 5, 6])\n",
    "    probs = np.array([0.05, 0.40, 0.35, 0.10, 0.05, 0.05])\n",
    "    return np.random.choice(a=choices, p=probs)"
   ]
  },
  {
   "cell_type": "code",
   "execution_count": 66,
   "metadata": {},
   "outputs": [],
   "source": [
    "def simulate_doubles_vendor(customer_limit):\n",
    "    customer_queue = CustomerQueue()\n",
    "    vendor = Vendor()\n",
    "    fel = FutureEventList()\n",
    "    num_customers_to_arrive = 0\n",
    "    finished_customers = []\n",
    "    \n",
    "    # our first arrival\n",
    "    interarrival_time = get_interarrival_time()\n",
    "    first_arrival_time = 0 + interarrival_time\n",
    "    first_arrival = create_arrival(first_arrival_time)\n",
    "    fel.enqueue(first_arrival)\n",
    "    last_time = 0\n",
    "   # i = 0\n",
    "    \n",
    "    while num_customers_to_arrive <= customer_limit:\n",
    "#         i += 1\n",
    "#         print(i)\n",
    "        current_event = fel.dequeue() # current event to process\n",
    "        #print(current_event)\n",
    "        current_time = current_event[0]\n",
    "        last_time = current_time\n",
    "        current_event_type =  current_event[1]\n",
    "        if current_event_type == EventType.ARRIVAL:\n",
    "            customer_queue.add_customer(current_time)\n",
    "            num_customers_to_arrive += 1\n",
    "            if vendor.is_free:\n",
    "                customer = customer_queue.remove_customer(current_time)\n",
    "                customer.service_start(current_time)\n",
    "                vendor.start_serving(current_time, customer)\n",
    "                service_time = get_service_time()\n",
    "                completion_of_service_time = current_time + service_time\n",
    "                new_event = create_service_end(completion_of_service_time)\n",
    "                fel.enqueue(new_event)\n",
    "            interarrival_time = get_interarrival_time()\n",
    "            next_arrival_time = interarrival_time + current_time\n",
    "            new_event = create_arrival(next_arrival_time)\n",
    "            fel.enqueue(new_event)\n",
    "        elif current_event_type == EventType.SERVICE_END:\n",
    "            customer = vendor.finish_serving(current_time)\n",
    "            finished_customers.append(customer)\n",
    "            customer.service_end(current_time)\n",
    "            if not customer_queue.is_empty():\n",
    "                customer = customer_queue.remove_customer(current_time)\n",
    "                customer.service_start(current_time)\n",
    "                vendor.start_serving(current_time, customer)\n",
    "                service_time = get_service_time()\n",
    "                completion_of_service_time = current_time + service_time\n",
    "                new_event = create_service_end(completion_of_service_time)\n",
    "                fel.enqueue(new_event)\n",
    "        \n",
    "    return customer_queue, vendor, finished_customers, last_time"
   ]
  },
  {
   "cell_type": "code",
   "execution_count": 67,
   "metadata": {},
   "outputs": [],
   "source": [
    "customer_queue, vendor, finished_customers, last_time = simulate_doubles_vendor(150)"
   ]
  },
  {
   "cell_type": "code",
   "execution_count": 68,
   "metadata": {},
   "outputs": [
    {
     "data": {
      "text/plain": [
       "[<__main__.Customer at 0x7fb9ffb9acc0>,\n",
       " <__main__.Customer at 0x7fb9ffb9acf8>,\n",
       " <__main__.Customer at 0x7fb9ffb9a4a8>,\n",
       " <__main__.Customer at 0x7fb9ffb9ada0>,\n",
       " <__main__.Customer at 0x7fb9ffb9a320>,\n",
       " <__main__.Customer at 0x7fb9ffb9ae48>,\n",
       " <__main__.Customer at 0x7fb9ffb9a1d0>,\n",
       " <__main__.Customer at 0x7fb9ffb9a8d0>]"
      ]
     },
     "execution_count": 68,
     "metadata": {},
     "output_type": "execute_result"
    }
   ],
   "source": [
    "customer_queue.customers"
   ]
  },
  {
   "cell_type": "code",
   "execution_count": 69,
   "metadata": {},
   "outputs": [
    {
     "data": {
      "text/plain": [
       "0.9629114435649266"
      ]
     },
     "execution_count": 69,
     "metadata": {},
     "output_type": "execute_result"
    }
   ],
   "source": [
    "vendor.get_utilization(last_time)"
   ]
  },
  {
   "cell_type": "code",
   "execution_count": 70,
   "metadata": {},
   "outputs": [],
   "source": [
    "wait_times = [cust.wait_time() for cust in finished_customers]"
   ]
  },
  {
   "cell_type": "code",
   "execution_count": 71,
   "metadata": {},
   "outputs": [
    {
     "data": {
      "text/plain": [
       "7.470255528283906"
      ]
     },
     "execution_count": 71,
     "metadata": {},
     "output_type": "execute_result"
    }
   ],
   "source": [
    "np.mean(wait_times)"
   ]
  },
  {
   "cell_type": "code",
   "execution_count": 72,
   "metadata": {},
   "outputs": [
    {
     "data": {
      "text/plain": [
       "0.0"
      ]
     },
     "execution_count": 72,
     "metadata": {},
     "output_type": "execute_result"
    }
   ],
   "source": [
    "np.min(wait_times)"
   ]
  },
  {
   "cell_type": "code",
   "execution_count": 73,
   "metadata": {},
   "outputs": [
    {
     "data": {
      "text/plain": [
       "22.86432577250747"
      ]
     },
     "execution_count": 73,
     "metadata": {},
     "output_type": "execute_result"
    }
   ],
   "source": [
    "np.max(wait_times)"
   ]
  },
  {
   "cell_type": "code",
   "execution_count": 74,
   "metadata": {},
   "outputs": [
    {
     "data": {
      "text/plain": [
       "(array([32., 17., 28., 26., 10.,  4.,  6.,  5.,  9.,  5.]),\n",
       " array([ 0.        ,  2.28643258,  4.57286515,  6.85929773,  9.14573031,\n",
       "        11.43216289, 13.71859546, 16.00502804, 18.29146062, 20.5778932 ,\n",
       "        22.86432577]),\n",
       " <a list of 10 Patch objects>)"
      ]
     },
     "execution_count": 74,
     "metadata": {},
     "output_type": "execute_result"
    },
    {
     "data": {
      "image/png": "[encoded data removed]",
      "text/plain": [
       "<Figure size 432x288 with 1 Axes>"
      ]
     },
     "metadata": {
      "needs_background": "light"
     },
     "output_type": "display_data"
    }
   ],
   "source": [
    "plt.hist(wait_times)"
   ]
  },
  {
   "cell_type": "code",
   "execution_count": 76,
   "metadata": {},
   "outputs": [
    {
     "data": {
      "text/plain": [
       "0"
      ]
     },
     "execution_count": 76,
     "metadata": {},
     "output_type": "execute_result"
    }
   ],
   "source": [
    "np.min(customer_queue.lengths)"
   ]
  },
  {
   "cell_type": "code",
   "execution_count": 77,
   "metadata": {},
   "outputs": [
    {
     "data": {
      "text/plain": [
       "8"
      ]
     },
     "execution_count": 77,
     "metadata": {},
     "output_type": "execute_result"
    }
   ],
   "source": [
    "np.max(customer_queue.lengths)"
   ]
  },
  {
   "cell_type": "code",
   "execution_count": 78,
   "metadata": {},
   "outputs": [
    {
     "data": {
      "text/plain": [
       "2.7559322033898304"
      ]
     },
     "execution_count": 78,
     "metadata": {},
     "output_type": "execute_result"
    }
   ],
   "source": [
    "np.mean(customer_queue.lengths)"
   ]
  },
  {
   "cell_type": "code",
   "execution_count": null,
   "metadata": {},
   "outputs": [],
   "source": []
  }
 ],
 "metadata": {
  "kernelspec": {
   "display_name": "Python 3",
   "language": "python",
   "name": "python3"
  },
  "language_info": {
   "codemirror_mode": {
    "name": "ipython",
    "version": 3
   },
   "file_extension": ".py",
   "mimetype": "text/x-python",
   "name": "python",
   "nbconvert_exporter": "python",
   "pygments_lexer": "ipython3",
   "version": "3.6.10"
  }
 },
 "nbformat": 4,
 "nbformat_minor": 4
}
