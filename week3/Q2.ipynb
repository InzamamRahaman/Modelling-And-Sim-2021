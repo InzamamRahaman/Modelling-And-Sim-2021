{
 "cells": [
  {
   "cell_type": "code",
   "execution_count": 1,
   "metadata": {},
   "outputs": [
    {
     "name": "stdout",
     "output_type": "stream",
     "text": [
      "Populating the interactive namespace from numpy and matplotlib\n"
     ]
    }
   ],
   "source": [
    "%pylab inline\n",
    "import numpy as np"
   ]
  },
  {
   "cell_type": "code",
   "execution_count": 2,
   "metadata": {},
   "outputs": [],
   "source": [
    "def get_loan_needed(income, expenses):\n",
    "    return expenses - income\n",
    "\n",
    "def get_income():\n",
    "    fixed = get_fixed_income()\n",
    "    variable = get_variable_income()\n",
    "    return fixed + variable\n",
    "\n",
    "def get_fixed_income():\n",
    "    parents = 3000\n",
    "    savings = 4000\n",
    "    return parents + savings\n",
    "\n",
    "def get_variable_income():\n",
    "    p_time_job = np.random.uniform(3000, 5000)\n",
    "    student_aide = np.random.uniform(2000, 2500)\n",
    "    return p_time_job + student_aide\n",
    "\n",
    "\n",
    "def get_expenses():\n",
    "    fixed = get_fixed_expenses()\n",
    "    variable = get_variable_expenses()\n",
    "    return fixed + variable\n",
    "\n",
    "def get_fixed_expenses():\n",
    "    tuition = 10000\n",
    "    dorm = 4000\n",
    "    return tuition + dorm\n",
    "\n",
    "def get_variable_expenses():\n",
    "    meals = np.random.uniform(900, 1200)\n",
    "    entertainment = np.random.uniform(600, 1200)\n",
    "    transportation = np.random.uniform(500, 1000)\n",
    "    books = np.random.uniform(500, 800)\n",
    "    return meals + entertainment + transportation + books"
   ]
  },
  {
   "cell_type": "code",
   "execution_count": 7,
   "metadata": {},
   "outputs": [],
   "source": [
    "def get_loan_amt():\n",
    "    income = get_income()\n",
    "    expenses = get_expenses()\n",
    "    return get_loan_needed(expenses, income)"
   ]
  },
  {
   "cell_type": "code",
   "execution_count": 19,
   "metadata": {},
   "outputs": [],
   "source": [
    "def run_simulation(n_iters):\n",
    "    amts = []\n",
    "    for i in range(n_iters):\n",
    "        amts.append(get_loan_amt())\n",
    "    return np.ceil(np.mean(amts)), np.ceil(np.std(amts)), amts"
   ]
  },
  {
   "cell_type": "code",
   "execution_count": 20,
   "metadata": {},
   "outputs": [],
   "source": [
    "expected, std, amts = run_simulation(50000)"
   ]
  },
  {
   "cell_type": "code",
   "execution_count": 21,
   "metadata": {},
   "outputs": [
    {
     "data": {
      "text/plain": [
       "(array([ 114., 1432., 5247., 8559., 9201., 9291., 8580., 5725., 1698.,\n",
       "         153.]),\n",
       " array([2211.82779928, 2585.14546163, 2958.46312398, 3331.78078633,\n",
       "        3705.09844869, 4078.41611104, 4451.73377339, 4825.05143574,\n",
       "        5198.36909809, 5571.68676044, 5945.00442279]),\n",
       " <a list of 10 Patch objects>)"
      ]
     },
     "execution_count": 21,
     "metadata": {},
     "output_type": "execute_result"
    },
    {
     "data": {
      "image/png": "[encoded data removed]",
      "text/plain": [
       "<Figure size 432x288 with 1 Axes>"
      ]
     },
     "metadata": {
      "needs_background": "light"
     },
     "output_type": "display_data"
    }
   ],
   "source": [
    "plt.hist(amts)"
   ]
  },
  {
   "cell_type": "code",
   "execution_count": 22,
   "metadata": {},
   "outputs": [
    {
     "data": {
      "text/plain": [
       "4096.0"
      ]
     },
     "execution_count": 22,
     "metadata": {},
     "output_type": "execute_result"
    }
   ],
   "source": [
    "expected"
   ]
  },
  {
   "cell_type": "code",
   "execution_count": 23,
   "metadata": {},
   "outputs": [
    {
     "data": {
      "text/plain": [
       "649.0"
      ]
     },
     "execution_count": 23,
     "metadata": {},
     "output_type": "execute_result"
    }
   ],
   "source": [
    "std"
   ]
  },
  {
   "cell_type": "code",
   "execution_count": 24,
   "metadata": {},
   "outputs": [
    {
     "data": {
      "text/plain": [
       "5394.0"
      ]
     },
     "execution_count": 24,
     "metadata": {},
     "output_type": "execute_result"
    }
   ],
   "source": [
    "expected + 2 * std"
   ]
  },
  {
   "cell_type": "code",
   "execution_count": null,
   "metadata": {},
   "outputs": [],
   "source": []
  }
 ],
 "metadata": {
  "kernelspec": {
   "display_name": "Python 3",
   "language": "python",
   "name": "python3"
  },
  "language_info": {
   "codemirror_mode": {
    "name": "ipython",
    "version": 3
   },
   "file_extension": ".py",
   "mimetype": "text/x-python",
   "name": "python",
   "nbconvert_exporter": "python",
   "pygments_lexer": "ipython3",
   "version": "3.6.10"
  }
 },
 "nbformat": 4,
 "nbformat_minor": 4
}
